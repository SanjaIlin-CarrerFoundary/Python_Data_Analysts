{
 "cells": [
  {
   "cell_type": "markdown",
   "id": "4e0cbde7",
   "metadata": {},
   "source": [
    "# TASK 4.10 - Part 1, Coding Etiquette & Excel Reporting"
   ]
  },
  {
   "cell_type": "markdown",
   "id": "26bae434",
   "metadata": {},
   "source": [
    "## This script contains the following points from Step 1- 5 in task 4.10, part 1:\n",
    "### -  Importing libraries\n",
    "### -  Importing Data\n",
    "### -  Creating new column using 'If-Statements with For-Loops'\n",
    "### - Deriving new columns with loc()\n",
    "### - Creating crosstab \n",
    "### -  Creating & Exporting Charts\n",
    "### -  Merging datasets\n",
    "### - Droping Columns\n",
    "### -  Exporting Data in Pickle Format"
   ]
  },
  {
   "cell_type": "markdown",
   "id": "8508190c",
   "metadata": {},
   "source": [
    "# Step 1."
   ]
  },
  {
   "cell_type": "markdown",
   "id": "2f83826b",
   "metadata": {},
   "source": [
    "## 1. Importing libraries"
   ]
  },
  {
   "cell_type": "code",
   "execution_count": 79,
   "id": "fbc4a524",
   "metadata": {},
   "outputs": [],
   "source": [
    "# Import libraries\n",
    "\n",
    "import pandas as pd\n",
    "import numpy as np\n",
    "import os\n",
    "import matplotlib.pyplot as plt\n",
    "import seaborn as sns\n",
    "import scipy"
   ]
  },
  {
   "cell_type": "markdown",
   "id": "09d84dbd",
   "metadata": {},
   "source": [
    "## 2. Importing Data"
   ]
  },
  {
   "cell_type": "code",
   "execution_count": 80,
   "id": "57cd3d40",
   "metadata": {},
   "outputs": [],
   "source": [
    "path = r'C:\\Users\\Sanja\\Documents\\08-2020 Instacart Basket Analysis'"
   ]
  },
  {
   "cell_type": "markdown",
   "id": "2ff6dd76",
   "metadata": {},
   "source": [
    "### 2.1 Importing 'Orders Product Customers' data set"
   ]
  },
  {
   "cell_type": "code",
   "execution_count": 81,
   "id": "90a41211",
   "metadata": {},
   "outputs": [
    {
     "ename": "MemoryError",
     "evalue": "",
     "output_type": "error",
     "traceback": [
      "\u001b[1;31m---------------------------------------------------------------------------\u001b[0m",
      "\u001b[1;31mMemoryError\u001b[0m                               Traceback (most recent call last)",
      "Cell \u001b[1;32mIn[81], line 1\u001b[0m\n\u001b[1;32m----> 1\u001b[0m ords_prods_cust_all \u001b[38;5;241m=\u001b[39m pd\u001b[38;5;241m.\u001b[39mread_pickle(os\u001b[38;5;241m.\u001b[39mpath\u001b[38;5;241m.\u001b[39mjoin(path, \u001b[38;5;124m'\u001b[39m\u001b[38;5;124m02 Data\u001b[39m\u001b[38;5;124m'\u001b[39m, \u001b[38;5;124m'\u001b[39m\u001b[38;5;124mPrepared Data\u001b[39m\u001b[38;5;124m'\u001b[39m,\u001b[38;5;124m'\u001b[39m\u001b[38;5;124morders_products_all.pkl\u001b[39m\u001b[38;5;124m'\u001b[39m))\n",
      "File \u001b[1;32m~\\anaconda3\\Lib\\site-packages\\pandas\\io\\pickle.py:208\u001b[0m, in \u001b[0;36mread_pickle\u001b[1;34m(filepath_or_buffer, compression, storage_options)\u001b[0m\n\u001b[0;32m    205\u001b[0m     \u001b[38;5;28;01mwith\u001b[39;00m warnings\u001b[38;5;241m.\u001b[39mcatch_warnings(record\u001b[38;5;241m=\u001b[39m\u001b[38;5;28;01mTrue\u001b[39;00m):\n\u001b[0;32m    206\u001b[0m         \u001b[38;5;66;03m# We want to silence any warnings about, e.g. moved modules.\u001b[39;00m\n\u001b[0;32m    207\u001b[0m         warnings\u001b[38;5;241m.\u001b[39msimplefilter(\u001b[38;5;124m\"\u001b[39m\u001b[38;5;124mignore\u001b[39m\u001b[38;5;124m\"\u001b[39m, \u001b[38;5;167;01mWarning\u001b[39;00m)\n\u001b[1;32m--> 208\u001b[0m         \u001b[38;5;28;01mreturn\u001b[39;00m pickle\u001b[38;5;241m.\u001b[39mload(handles\u001b[38;5;241m.\u001b[39mhandle)\n\u001b[0;32m    209\u001b[0m \u001b[38;5;28;01mexcept\u001b[39;00m excs_to_catch:\n\u001b[0;32m    210\u001b[0m     \u001b[38;5;66;03m# e.g.\u001b[39;00m\n\u001b[0;32m    211\u001b[0m     \u001b[38;5;66;03m#  \"No module named 'pandas.core.sparse.series'\"\u001b[39;00m\n\u001b[0;32m    212\u001b[0m     \u001b[38;5;66;03m#  \"Can't get attribute '__nat_unpickle' on <module 'pandas._libs.tslib\"\u001b[39;00m\n\u001b[0;32m    213\u001b[0m     \u001b[38;5;28;01mreturn\u001b[39;00m pc\u001b[38;5;241m.\u001b[39mload(handles\u001b[38;5;241m.\u001b[39mhandle, encoding\u001b[38;5;241m=\u001b[39m\u001b[38;5;28;01mNone\u001b[39;00m)\n",
      "\u001b[1;31mMemoryError\u001b[0m: "
     ]
    }
   ],
   "source": [
    "ords_prods_cust_all = pd.read_pickle(os.path.join(path, '02 Data', 'Prepared Data','orders_products_all.pkl'))"
   ]
  },
  {
   "cell_type": "code",
   "execution_count": null,
   "id": "a6926089",
   "metadata": {},
   "outputs": [],
   "source": [
    "# Check on the imported data\n",
    "ords_prods_cust_all.shape"
   ]
  },
  {
   "cell_type": "code",
   "execution_count": null,
   "id": "e541b173",
   "metadata": {
    "scrolled": false
   },
   "outputs": [],
   "source": [
    "ords_prods_cust_all.head()"
   ]
  },
  {
   "cell_type": "code",
   "execution_count": null,
   "id": "ccd8699b",
   "metadata": {
    "scrolled": false
   },
   "outputs": [],
   "source": [
    "ords_prods_cust_all.info()"
   ]
  },
  {
   "cell_type": "markdown",
   "id": "5053501b",
   "metadata": {},
   "source": [
    "### 2.2 Importing 'Department' data set"
   ]
  },
  {
   "cell_type": "code",
   "execution_count": null,
   "id": "e70c6d33",
   "metadata": {},
   "outputs": [],
   "source": [
    "departments = pd.read_csv(os.path.join(path, '02 Data', 'Prepared Data', 'departments_wrangled.csv'), index_col = False)"
   ]
  },
  {
   "cell_type": "code",
   "execution_count": null,
   "id": "22c57f4c",
   "metadata": {},
   "outputs": [],
   "source": [
    "# Check on the imported data\n",
    "departments"
   ]
  },
  {
   "cell_type": "code",
   "execution_count": null,
   "id": "ff15c835",
   "metadata": {},
   "outputs": [],
   "source": [
    "# renaming the 'Unnamed: 0' column to 'department_id'\n",
    "\n",
    "departments.rename(columns={'Unnamed: 0':'department_id'},inplace=True)"
   ]
  },
  {
   "cell_type": "code",
   "execution_count": null,
   "id": "3e338f4a",
   "metadata": {
    "scrolled": true
   },
   "outputs": [],
   "source": [
    "departments"
   ]
  },
  {
   "cell_type": "markdown",
   "id": "0dfc748b",
   "metadata": {},
   "source": [
    "# Step 2.  Addressing PII data in the data set"
   ]
  },
  {
   "cell_type": "markdown",
   "id": "975ec425",
   "metadata": {},
   "source": [
    "### Note: Consider any security implications that might exist for this new data. You’ll need to address any PII data in the data before continuing your analysis."
   ]
  },
  {
   "cell_type": "markdown",
   "id": "44a0b27b",
   "metadata": {},
   "source": [
    "## Answer: We need to pay special attention to any Personally Identifiable Information (PII), such as names, email addresses, physical addresses, and phone numbers. Specifically, we had customer names in the dataset, but since they are considered PII, I excluded them from further analysis. Additionally, I didn't combine these name columns with the final dataset I'm working with to ensure data privacy and security."
   ]
  },
  {
   "cell_type": "markdown",
   "id": "5bd2edad",
   "metadata": {},
   "source": [
    "# Step 3. Exploring customer behavior in different geographic areas"
   ]
  },
  {
   "cell_type": "markdown",
   "id": "a3075de7",
   "metadata": {},
   "source": [
    "### Note:The Instacart officers are interested in comparing customer behavior in different geographic areas. Create a regional segmentation of the data. You’ll need to create a “Region” column based on the “State” column from your customers data set.\n",
    "### Use the region information in this Wikipedia article to create your column (you only need to create regions, not divisions).\n",
    "### Determine whether there’s a difference in spending habits between the different U.S. regions. (Hint: You can do this by crossing the variable you just created with the spending flag.)"
   ]
  },
  {
   "cell_type": "markdown",
   "id": "13cc0d4a",
   "metadata": {},
   "source": [
    "## 3.1. Creating a “region” column based on the “state” column from the customers data set."
   ]
  },
  {
   "cell_type": "code",
   "execution_count": null,
   "id": "96de0bde",
   "metadata": {},
   "outputs": [],
   "source": [
    "ords_prods_cust_all['state'].value_counts(dropna = False)"
   ]
  },
  {
   "cell_type": "code",
   "execution_count": null,
   "id": "e6dd00f5",
   "metadata": {},
   "outputs": [],
   "source": [
    "# Create new column for region, using 'If-Statements with For-Loops'\n",
    "result =[]\n",
    "\n",
    "for value in ords_prods_cust_all['state']:\n",
    "    if value in ['Maine', 'New Hampshire', 'Vermont', 'Massachusetts', 'Rhode Island', 'Connecticut', 'New York', 'Pennsylvania', 'New Jersey']:\n",
    "        result.append('Northeast')\n",
    "    elif value in ['Wisconsin', 'Michigan', 'Illinois', 'Indiana', 'Ohio', 'North Dakota', 'South Dakota', 'Nebraska', 'Kansas', 'Minnesota', 'Iowa', 'Missouri']:\n",
    "        result.append('Midwest')\n",
    "    elif value in ['Delaware', 'Maryland', 'District of Columbia', 'Virginia', 'West Virginia', 'North Carolina', 'South Carolina', 'Georgia', 'Florida', 'Kentucky', 'Tennessee', 'Mississippi', 'Alabama', 'Oklahoma', 'Texas', 'Arkansas', 'Louisiana']:\n",
    "        result.append('South')\n",
    "    elif value in ['Idaho', 'Montana', 'Wyoming', 'Nevada', 'Utah', 'Colorado', 'Arizona', 'New Mexico', 'Alaska', 'Washington', 'Oregon', 'California', 'Hawaii']:\n",
    "        result.append('West')\n",
    "    else:\n",
    "        result.append('Unknown')"
   ]
  },
  {
   "cell_type": "code",
   "execution_count": null,
   "id": "4062487d",
   "metadata": {
    "scrolled": true
   },
   "outputs": [],
   "source": [
    "result"
   ]
  },
  {
   "cell_type": "code",
   "execution_count": null,
   "id": "aa2fe4e2",
   "metadata": {},
   "outputs": [],
   "source": [
    "# Create new column from result output\n",
    "ords_prods_cust_all['region'] = result"
   ]
  },
  {
   "cell_type": "code",
   "execution_count": null,
   "id": "c4a4d07c",
   "metadata": {},
   "outputs": [],
   "source": [
    "# Check accurate regional segmentation\n",
    "ords_prods_cust_all['region'].value_counts (dropna = False)"
   ]
  },
  {
   "cell_type": "code",
   "execution_count": null,
   "id": "64090f80",
   "metadata": {},
   "outputs": [],
   "source": [
    "# Check on the dataframe\n",
    "ords_prods_cust_all.shape"
   ]
  },
  {
   "cell_type": "code",
   "execution_count": null,
   "id": "d853cafc",
   "metadata": {
    "scrolled": true
   },
   "outputs": [],
   "source": [
    "ords_prods_cust_all.head()"
   ]
  },
  {
   "cell_type": "markdown",
   "id": "31c7bbe6",
   "metadata": {},
   "source": [
    "## 3.2 Creating crosstab to match regions column with the spending_flag column"
   ]
  },
  {
   "cell_type": "code",
   "execution_count": null,
   "id": "8c45edae",
   "metadata": {},
   "outputs": [],
   "source": [
    "print(ords_prods_cust_all['spending_flag'])"
   ]
  },
  {
   "cell_type": "code",
   "execution_count": null,
   "id": "00308a59",
   "metadata": {},
   "outputs": [],
   "source": [
    "regional_spending_habits = pd.crosstab(ords_prods_cust_all['region'], ords_prods_cust_all['spending_flag'], dropna = False)"
   ]
  },
  {
   "cell_type": "code",
   "execution_count": null,
   "id": "2102ce3b",
   "metadata": {},
   "outputs": [],
   "source": [
    "regional_spending_habits"
   ]
  },
  {
   "cell_type": "code",
   "execution_count": null,
   "id": "b24943e5",
   "metadata": {},
   "outputs": [],
   "source": [
    "# Create a bar chart of the above 'regional_spending_habits' crosstab\n",
    "\n",
    "bar_regional_spending_habit=regional_spending_habits.plot.bar(color=['lightblue','tab:blue'])\n",
    "plt.xlabel(\"Region\", fontsize=10)\n",
    "plt.ylabel(\"Frequency\",fontsize=10)\n",
    "plt.title(\"Regional Spending Habit\", fontsize=12)\n",
    "plt.legend(loc='center left', bbox_to_anchor=(1.0, 0.5))\n",
    "plt.tight_layout()  # Automatically adjust subplot parameters"
   ]
  },
  {
   "cell_type": "markdown",
   "id": "c670f8e0",
   "metadata": {},
   "source": [
    "### Observation: It seems that customers' spending habits, especially distinguishing between high and low spenders, do not exhibit significant variations between different regions. In each region, the number of low spenders aligns with the total number of customers, with the regions ranked as South, West, Midwest, and Northeast. Furthermore, there are no notable differences in the counts of high spenders across these regions."
   ]
  },
  {
   "cell_type": "code",
   "execution_count": null,
   "id": "ecd19689",
   "metadata": {},
   "outputs": [],
   "source": [
    "# Export the chart\n",
    "bar_regional_spending_habit.figure.savefig(os.path.join(path, '04 Analysis','Visualizations', 'bar_regional_spending_habit.png'))"
   ]
  },
  {
   "cell_type": "markdown",
   "id": "5f98b147",
   "metadata": {},
   "source": [
    "# Step 4. Creating an exclusion flag for low-activity customers"
   ]
  },
  {
   "cell_type": "markdown",
   "id": "a1ff4466",
   "metadata": {},
   "source": [
    "### Note: The Instacart CFO isn’t interested in customers who don’t generate much revenue for the app. Create an exclusion flag for low-activity customers (customers with less than 5 orders) and exclude them from the data. Make sure you export this sample."
   ]
  },
  {
   "cell_type": "code",
   "execution_count": null,
   "id": "31f45918",
   "metadata": {},
   "outputs": [],
   "source": [
    "# Deriving columns with loc()\n",
    "ords_prods_cust_all.loc[ords_prods_cust_all['max_order'] >= 5, 'customer_activity'] = 'active_customer'"
   ]
  },
  {
   "cell_type": "code",
   "execution_count": null,
   "id": "aa1de235",
   "metadata": {},
   "outputs": [],
   "source": [
    "ords_prods_cust_all.loc[ords_prods_cust_all['max_order'] < 5, 'customer_activity'] = 'non_active_customer'"
   ]
  },
  {
   "cell_type": "code",
   "execution_count": null,
   "id": "f441cdb5",
   "metadata": {
    "scrolled": true
   },
   "outputs": [],
   "source": [
    "# Cross-check the result\n",
    "ords_prods_cust_all['customer_activity'].value_counts(dropna = False)"
   ]
  },
  {
   "cell_type": "markdown",
   "id": "abf560ee",
   "metadata": {},
   "source": [
    "#### Observation: After the cross-check of the sum of frequency of the new column I can confirm that the code operated correctly. Total sum = 32404859 rows."
   ]
  },
  {
   "cell_type": "code",
   "execution_count": null,
   "id": "05833ae9",
   "metadata": {},
   "outputs": [],
   "source": [
    "# Create a subset for the active customers\n",
    "\n",
    "ords_prods_active_customers = ords_prods_cust_all[ords_prods_cust_all['customer_activity']=='active_customer']"
   ]
  },
  {
   "cell_type": "code",
   "execution_count": null,
   "id": "4c4f5f34",
   "metadata": {},
   "outputs": [],
   "source": [
    "ords_prods_active_customers.shape"
   ]
  },
  {
   "cell_type": "code",
   "execution_count": null,
   "id": "45149489",
   "metadata": {
    "scrolled": true
   },
   "outputs": [],
   "source": [
    "ords_prods_active_customers.head()"
   ]
  },
  {
   "cell_type": "code",
   "execution_count": null,
   "id": "584814ea",
   "metadata": {},
   "outputs": [],
   "source": [
    "# Export the 'active_customer' subset\n",
    "\n",
    "ords_prods_active_customers.to_pickle(os.path.join(path,'02 Data','Prepared Data','ords_prods_active_customers.pkl'))"
   ]
  },
  {
   "cell_type": "markdown",
   "id": "1101db17",
   "metadata": {},
   "source": [
    "# Step 5. Customer Profiling"
   ]
  },
  {
   "cell_type": "markdown",
   "id": "4d865c7b",
   "metadata": {},
   "source": [
    "### Note: The marketing and business strategy units at Instacart want to create more-relevant marketing strategies for different products and are, thus, curious about customer profiling in their database. Create a profiling variable based on age, income, certain goods in the “department_id” column, and number of dependents. You might also use the “orders_day_of_the_week” and “order_hour_of_day” columns if you can think of a way they would impact customer profiles. (Hint: As an example, try thinking of what characteristics would lead you to the profile “Single adult” or “Young parent.”)"
   ]
  },
  {
   "cell_type": "markdown",
   "id": "6cb6280e",
   "metadata": {},
   "source": [
    "## 5.1 Creating 'Age' Groups"
   ]
  },
  {
   "cell_type": "markdown",
   "id": "7974320a",
   "metadata": {},
   "source": [
    "### The customers are grouped in 3 age groups:\n",
    "#### Group 1 'Under 40': customers < 40 years\n",
    "#### Group 2 'Middle Age':  40 years < = customers < 65 years\n",
    "#### Group 3 'Seniors': customers > = 65 years\n"
   ]
  },
  {
   "cell_type": "code",
   "execution_count": null,
   "id": "a1ddf7f0",
   "metadata": {},
   "outputs": [],
   "source": [
    "# Deriving columns with loc(), create a flag 'age group'\n",
    "ords_prods_cust_all.loc[ords_prods_cust_all['age'] < 40, 'age_group'] = 'Under 40'"
   ]
  },
  {
   "cell_type": "code",
   "execution_count": null,
   "id": "9714753a",
   "metadata": {},
   "outputs": [],
   "source": [
    "ords_prods_cust_all.loc[(ords_prods_cust_all['age'] >= 40) & (ords_prods_cust_all['age'] < 65),'age_group']= 'Middle Age'"
   ]
  },
  {
   "cell_type": "code",
   "execution_count": null,
   "id": "3e5772ba",
   "metadata": {},
   "outputs": [],
   "source": [
    "ords_prods_cust_all.loc[ords_prods_cust_all['age'] >= 65, 'age_group'] = 'Seniors'"
   ]
  },
  {
   "cell_type": "code",
   "execution_count": null,
   "id": "5c9207e3",
   "metadata": {},
   "outputs": [],
   "source": [
    "# Cross-check the result\n",
    "ords_prods_cust_all['age_group'].value_counts(dropna=False)"
   ]
  },
  {
   "cell_type": "markdown",
   "id": "b2dc2715",
   "metadata": {},
   "source": [
    "#### Observation: After the cross-check of the sum of frequency of the new column I can confirm that the code operated correctly. Total sum = 32404859 rows."
   ]
  },
  {
   "cell_type": "markdown",
   "id": "89104c77",
   "metadata": {},
   "source": [
    "## 5.2 Customer Profiling based on Income - Creating 'Income' Groups"
   ]
  },
  {
   "cell_type": "code",
   "execution_count": null,
   "id": "5fea6d49",
   "metadata": {
    "scrolled": true
   },
   "outputs": [],
   "source": [
    "# Define the intervals of the groups\n",
    "ords_prods_cust_all['spending_power'].describe()"
   ]
  },
  {
   "cell_type": "markdown",
   "id": "5504cff4",
   "metadata": {},
   "source": [
    "### The customers are grouped in 3 groups, based on the income:\n",
    "#### Group 1 'Lower':  income < 67.000\n",
    "#### Group 2 'Medium':  67.000 < = income < 130.000\n",
    "#### Gropu 3 'Higher: income > = 130.000"
   ]
  },
  {
   "cell_type": "code",
   "execution_count": null,
   "id": "a9c2a2fe",
   "metadata": {},
   "outputs": [],
   "source": [
    "# Deriving columns with loc(), create a flag 'income group'\n",
    "ords_prods_cust_all.loc[ords_prods_cust_all['spending_power'] < 67000, 'income_group'] = 'Lower'"
   ]
  },
  {
   "cell_type": "code",
   "execution_count": null,
   "id": "515a1fd1",
   "metadata": {},
   "outputs": [],
   "source": [
    "ords_prods_cust_all.loc[(ords_prods_cust_all['spending_power'] >= 67000) & (ords_prods_cust_all['spending_power'] < 130000),'income_group']= 'Medium'"
   ]
  },
  {
   "cell_type": "code",
   "execution_count": null,
   "id": "2574d840",
   "metadata": {},
   "outputs": [],
   "source": [
    "ords_prods_cust_all.loc[ords_prods_cust_all['spending_power'] >= 130000, 'income_group'] = 'Higher'"
   ]
  },
  {
   "cell_type": "code",
   "execution_count": null,
   "id": "1becabb7",
   "metadata": {},
   "outputs": [],
   "source": [
    "# Cross-check the result\n",
    "ords_prods_cust_all['income_group'].value_counts(dropna=False)"
   ]
  },
  {
   "cell_type": "markdown",
   "id": "254aa59d",
   "metadata": {},
   "source": [
    "#### Observation: After the cross-check of the sum of frequency of the new column I can confirm that the code operated correctly. Total sum = 32404859 rows."
   ]
  },
  {
   "cell_type": "markdown",
   "id": "8324632f",
   "metadata": {},
   "source": [
    "## 5.3 Creating 'Family Status' Groups, based on Marital Status & Number of Dependents"
   ]
  },
  {
   "cell_type": "code",
   "execution_count": null,
   "id": "c0383919",
   "metadata": {},
   "outputs": [],
   "source": [
    "# Define the intervals of the groups\n",
    "ords_prods_cust_all['marital_status'].value_counts(dropna=False)"
   ]
  },
  {
   "cell_type": "code",
   "execution_count": null,
   "id": "a11306f4",
   "metadata": {},
   "outputs": [],
   "source": [
    "ords_prods_cust_all['marital_status'].describe()"
   ]
  },
  {
   "cell_type": "code",
   "execution_count": null,
   "id": "9d2f6171",
   "metadata": {},
   "outputs": [],
   "source": [
    "ords_prods_cust_all['number_of_dependents'].value_counts(dropna=False)"
   ]
  },
  {
   "cell_type": "code",
   "execution_count": null,
   "id": "91bb8e15",
   "metadata": {},
   "outputs": [],
   "source": [
    "# Define the intervals of the groups\n",
    "ords_prods_cust_all['number_of_dependents'].describe()"
   ]
  },
  {
   "cell_type": "code",
   "execution_count": null,
   "id": "ec638079",
   "metadata": {},
   "outputs": [],
   "source": [
    "# Deriving columns with loc(), create a flag 'family status'\n",
    "ords_prods_cust_all.loc[(ords_prods_cust_all['marital_status'].isin(['divorced/widowed','single', 'living with parents and siblings']))&(ords_prods_cust_all['number_of_dependents'] == 0),'family_status_flag']= 'Single adult'"
   ]
  },
  {
   "cell_type": "code",
   "execution_count": null,
   "id": "d76e203d",
   "metadata": {},
   "outputs": [],
   "source": [
    "ords_prods_cust_all.loc[(ords_prods_cust_all['marital_status'].isin(['living with parents and siblings']))&(ords_prods_cust_all['number_of_dependents'] > 0),'family_status_flag']= 'Young parent'"
   ]
  },
  {
   "cell_type": "code",
   "execution_count": null,
   "id": "4b9dff1e",
   "metadata": {},
   "outputs": [],
   "source": [
    "ords_prods_cust_all.loc[(ords_prods_cust_all['marital_status'].isin(['divorced/widowed','single']))&(ords_prods_cust_all['number_of_dependents'] > 0),'family_status_flag']= 'Single adult with children'"
   ]
  },
  {
   "cell_type": "code",
   "execution_count": null,
   "id": "4ff576a2",
   "metadata": {},
   "outputs": [],
   "source": [
    "ords_prods_cust_all.loc[(ords_prods_cust_all['marital_status'].isin(['married']))&(ords_prods_cust_all['number_of_dependents'] > 0),'family_status_flag']= 'Family'"
   ]
  },
  {
   "cell_type": "code",
   "execution_count": null,
   "id": "ae02bfe3",
   "metadata": {},
   "outputs": [],
   "source": [
    "ords_prods_cust_all.loc[(ords_prods_cust_all['marital_status'].isin(['married']))&(ords_prods_cust_all['number_of_dependents'] == 0),'family_status_flag']= 'Family without children'"
   ]
  },
  {
   "cell_type": "code",
   "execution_count": null,
   "id": "d9226cef",
   "metadata": {
    "scrolled": true
   },
   "outputs": [],
   "source": [
    "# Cross-check the result\n",
    "ords_prods_cust_all['family_status_flag'].value_counts(dropna=False)"
   ]
  },
  {
   "cell_type": "markdown",
   "id": "7f4f8a9c",
   "metadata": {},
   "source": [
    "#### Observation: After the cross-check of the sum of frequency of the new column I can confirm that the code operated correctly. Total sum = 32404859 rows."
   ]
  },
  {
   "cell_type": "markdown",
   "id": "abd20584",
   "metadata": {},
   "source": [
    "## 5.4. Customer Profiling based on Certain Goods in the 'department_id'"
   ]
  },
  {
   "cell_type": "markdown",
   "id": "56ac75e0",
   "metadata": {},
   "source": [
    "## 5.4.1. Merging the prepared Instacart 'ords_prods_cust_all' data with the wrangled 'departments' data set"
   ]
  },
  {
   "cell_type": "code",
   "execution_count": null,
   "id": "abdf1091",
   "metadata": {},
   "outputs": [],
   "source": [
    "# Merge 'ords_prods_cust_all' and 'departments' using department_id as a key \n",
    "df_instacart_all = ords_prods_cust_all.merge(departments, on = 'department_id')"
   ]
  },
  {
   "cell_type": "code",
   "execution_count": null,
   "id": "71b9012a",
   "metadata": {},
   "outputs": [],
   "source": [
    "df_instacart_all.shape"
   ]
  },
  {
   "cell_type": "code",
   "execution_count": null,
   "id": "68b304ec",
   "metadata": {},
   "outputs": [],
   "source": [
    "df_instacart_all.head()"
   ]
  },
  {
   "cell_type": "code",
   "execution_count": null,
   "id": "29c22d86",
   "metadata": {},
   "outputs": [],
   "source": [
    "# Use the indicator argument to check whether there was a full match between the two dataframes\n",
    "df_instacart_all_test = ords_prods_cust_all.merge(departments, on = 'department_id', indicator = True)"
   ]
  },
  {
   "cell_type": "code",
   "execution_count": null,
   "id": "69d72498",
   "metadata": {},
   "outputs": [],
   "source": [
    "df_instacart_all_test['_merge'].value_counts()"
   ]
  },
  {
   "cell_type": "code",
   "execution_count": null,
   "id": "c95a27ed",
   "metadata": {},
   "outputs": [],
   "source": [
    "# Merge 'ords_prods_cust_all' and 'departments' using department_id as a key  & the argument how = 'outer', to double-check the full match \n",
    "df_instacart_all_test_1 = ords_prods_cust_all.merge(departments, on = 'department_id', indicator = True, how = 'outer')"
   ]
  },
  {
   "cell_type": "code",
   "execution_count": null,
   "id": "f3f476f3",
   "metadata": {},
   "outputs": [],
   "source": [
    "# Use the indicator argument to check whether there was a full match between the two dataframes\n",
    "df_instacart_all_test_1['_merge'].value_counts()"
   ]
  },
  {
   "cell_type": "markdown",
   "id": "1d7aea45",
   "metadata": {},
   "source": [
    "#### Note: After using this method to double-check the merge, we can see that we do have a full match."
   ]
  },
  {
   "cell_type": "markdown",
   "id": "19809ffa",
   "metadata": {},
   "source": [
    "## 5.4.2. Creating  Groups of  Goods - Grocery Essentials& Non-Grocery Items"
   ]
  },
  {
   "cell_type": "code",
   "execution_count": null,
   "id": "8c402859",
   "metadata": {},
   "outputs": [],
   "source": [
    "# Deriving columns with loc(), create a flag 'goods_sales_count'\n",
    "df_instacart_all.loc[(df_instacart_all['department'].isin(['produce', 'dairy eggs', 'snacks', 'beverages', 'frozen', 'pantry', 'bakery'])),'goods_group']= 'Grocery Essentials'"
   ]
  },
  {
   "cell_type": "code",
   "execution_count": null,
   "id": "5d2a1643",
   "metadata": {},
   "outputs": [],
   "source": [
    "df_instacart_all.loc[(df_instacart_all['department'].isin(['canned goods', 'deli', 'dry goods pasta', 'household', 'meat seafood', 'breakfast', 'personal care', 'babies', 'international', 'alcohol', 'pets', 'other' ])),'goods_group']= 'Non-Grocery Items'"
   ]
  },
  {
   "cell_type": "code",
   "execution_count": null,
   "id": "1e2c60d3",
   "metadata": {},
   "outputs": [],
   "source": [
    "df_instacart_all.loc[(df_instacart_all['department'].isin(['bulk', 'missing'])),'goods_group']= 'Not Specified'"
   ]
  },
  {
   "cell_type": "code",
   "execution_count": null,
   "id": "23ecc389",
   "metadata": {
    "scrolled": true
   },
   "outputs": [],
   "source": [
    "# Cross-check the result\n",
    "df_instacart_all['goods_group'].value_counts(dropna=False)"
   ]
  },
  {
   "cell_type": "markdown",
   "id": "1822eec5",
   "metadata": {},
   "source": [
    "#### Observation: After the cross-check of the sum of frequency of the new column I can confirm that the code operated correctly. Total sum = 32404859 rows"
   ]
  },
  {
   "cell_type": "markdown",
   "id": "dbf3ba93",
   "metadata": {},
   "source": [
    "## 5.4.3. Creating the Groups of the goods based on their sales count"
   ]
  },
  {
   "cell_type": "code",
   "execution_count": null,
   "id": "7325e75c",
   "metadata": {
    "scrolled": true
   },
   "outputs": [],
   "source": [
    "# Define the intervals of the groups\n",
    "df_instacart_all['department'].value_counts()"
   ]
  },
  {
   "cell_type": "code",
   "execution_count": null,
   "id": "0be24ef3",
   "metadata": {},
   "outputs": [],
   "source": [
    "# Deriving columns with loc(), create a flag 'goods_sales_count'\n",
    "df_instacart_all.loc[(df_instacart_all['department'].isin(['produce', 'dairy eggs'])),'goods_sales_count']= 'High Sales'"
   ]
  },
  {
   "cell_type": "code",
   "execution_count": null,
   "id": "d605a3e4",
   "metadata": {},
   "outputs": [],
   "source": [
    "df_instacart_all.loc[(df_instacart_all['department'].isin(['snacks', 'beverages', 'frozen', 'pantry', 'bakery', 'canned goods', 'deli', 'dry goods pasta', 'household', 'meat seafood', 'breakfast', 'personal care', 'babies'])),'goods_sales_count']= 'Medium Sales'"
   ]
  },
  {
   "cell_type": "code",
   "execution_count": null,
   "id": "0074adf6",
   "metadata": {},
   "outputs": [],
   "source": [
    "df_instacart_all.loc[(df_instacart_all['department'].isin(['international', 'alcohol', 'pets', 'missing', 'other', 'bulk'])),'goods_sales_count']= 'Low Sales'"
   ]
  },
  {
   "cell_type": "code",
   "execution_count": null,
   "id": "d3b6cd85",
   "metadata": {},
   "outputs": [],
   "source": [
    "# Cross-check the result\n",
    "df_instacart_all['goods_sales_count'].value_counts(dropna=False)"
   ]
  },
  {
   "cell_type": "markdown",
   "id": "fc09c85b",
   "metadata": {},
   "source": [
    "#### Observation: After the cross-check of the sum of frequency of the new column I can confirm that the code operated correctly. Total sum = 32404859 rows"
   ]
  },
  {
   "cell_type": "code",
   "execution_count": null,
   "id": "add96a43",
   "metadata": {
    "scrolled": true
   },
   "outputs": [],
   "source": [
    "df_instacart_all.shape"
   ]
  },
  {
   "cell_type": "markdown",
   "id": "74049ab0",
   "metadata": {},
   "source": [
    "## Note: 'df_instacart_all' will serve as the final dataframe used for the final analysis"
   ]
  },
  {
   "cell_type": "code",
   "execution_count": null,
   "id": "53b1deb5",
   "metadata": {},
   "outputs": [],
   "source": [
    "# Droping the unnecessary columns from the final dataframe\n",
    "instacart_all=df_instacart_all.drop(columns = ['add_to_cart_order', 'reordered','aisle_id' ])"
   ]
  },
  {
   "cell_type": "code",
   "execution_count": null,
   "id": "e217c567",
   "metadata": {},
   "outputs": [],
   "source": [
    "instacart_all.shape"
   ]
  },
  {
   "cell_type": "code",
   "execution_count": null,
   "id": "7bfefb6a",
   "metadata": {},
   "outputs": [],
   "source": [
    "# Export Final Data in Pickle Format\n",
    "instacart_all.to_pickle(os.path.join(path, '02 Data','Prepared Data', 'instacart_all.pkl'))"
   ]
  }
 ],
 "metadata": {
  "kernelspec": {
   "display_name": "Python 3 (ipykernel)",
   "language": "python",
   "name": "python3"
  },
  "language_info": {
   "codemirror_mode": {
    "name": "ipython",
    "version": 3
   },
   "file_extension": ".py",
   "mimetype": "text/x-python",
   "name": "python",
   "nbconvert_exporter": "python",
   "pygments_lexer": "ipython3",
   "version": "3.11.4"
  }
 },
 "nbformat": 4,
 "nbformat_minor": 5
}
