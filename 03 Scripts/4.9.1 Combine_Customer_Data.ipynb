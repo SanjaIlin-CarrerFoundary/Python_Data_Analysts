{
 "cells": [
  {
   "cell_type": "markdown",
   "id": "5971d530",
   "metadata": {},
   "source": [
    "# TASK 4.9.1"
   ]
  },
  {
   "cell_type": "markdown",
   "id": "2624bcf7",
   "metadata": {},
   "source": [
    "## This script contains the following points:\n",
    "### -  Importing libraries\n",
    "### -  Importing Data\n",
    "### -  Data Wrangling\n",
    "### -  Data Consistency Checks\n",
    "### -  Merge data \n",
    "### -  Export data"
   ]
  },
  {
   "cell_type": "markdown",
   "id": "1d229f61",
   "metadata": {},
   "source": [
    "## 01. Importing libraries"
   ]
  },
  {
   "cell_type": "code",
   "execution_count": 1,
   "id": "0c02e8b1",
   "metadata": {},
   "outputs": [],
   "source": [
    "# Import libraries\n",
    "\n",
    "import pandas as pd\n",
    "import numpy as np\n",
    "import os"
   ]
  },
  {
   "cell_type": "markdown",
   "id": "4fcad72b",
   "metadata": {},
   "source": [
    "## 02. Importing Data"
   ]
  },
  {
   "cell_type": "code",
   "execution_count": 2,
   "id": "31cdcdf4",
   "metadata": {},
   "outputs": [],
   "source": [
    "path = r'C:\\Users\\Sanja\\Documents\\08-2020 Instacart Basket Analysis'"
   ]
  },
  {
   "cell_type": "code",
   "execution_count": 3,
   "id": "d002d067",
   "metadata": {},
   "outputs": [],
   "source": [
    "df_customer = pd.read_csv(os.path.join(path, '02 Data', 'Original Data', 'customers.csv'), index_col = False)"
   ]
  },
  {
   "cell_type": "code",
   "execution_count": 4,
   "id": "5b219ccc",
   "metadata": {},
   "outputs": [],
   "source": [
    "ords_prods_agg = pd.read_pickle(os.path.join(path, '02 Data', 'Prepared Data','orders_products_aggregated.pkl'))"
   ]
  },
  {
   "cell_type": "markdown",
   "id": "f68cd6c6",
   "metadata": {},
   "source": [
    "## 03. Data Wrangling"
   ]
  },
  {
   "cell_type": "code",
   "execution_count": 5,
   "id": "d4e01049",
   "metadata": {
    "scrolled": true
   },
   "outputs": [
    {
     "data": {
      "text/html": [
       "<div>\n",
       "<style scoped>\n",
       "    .dataframe tbody tr th:only-of-type {\n",
       "        vertical-align: middle;\n",
       "    }\n",
       "\n",
       "    .dataframe tbody tr th {\n",
       "        vertical-align: top;\n",
       "    }\n",
       "\n",
       "    .dataframe thead th {\n",
       "        text-align: right;\n",
       "    }\n",
       "</style>\n",
       "<table border=\"1\" class=\"dataframe\">\n",
       "  <thead>\n",
       "    <tr style=\"text-align: right;\">\n",
       "      <th></th>\n",
       "      <th>user_id</th>\n",
       "      <th>First Name</th>\n",
       "      <th>Surnam</th>\n",
       "      <th>Gender</th>\n",
       "      <th>STATE</th>\n",
       "      <th>Age</th>\n",
       "      <th>date_joined</th>\n",
       "      <th>n_dependants</th>\n",
       "      <th>fam_status</th>\n",
       "      <th>income</th>\n",
       "    </tr>\n",
       "  </thead>\n",
       "  <tbody>\n",
       "    <tr>\n",
       "      <th>0</th>\n",
       "      <td>26711</td>\n",
       "      <td>Deborah</td>\n",
       "      <td>Esquivel</td>\n",
       "      <td>Female</td>\n",
       "      <td>Missouri</td>\n",
       "      <td>48</td>\n",
       "      <td>1/1/2017</td>\n",
       "      <td>3</td>\n",
       "      <td>married</td>\n",
       "      <td>165665</td>\n",
       "    </tr>\n",
       "    <tr>\n",
       "      <th>1</th>\n",
       "      <td>33890</td>\n",
       "      <td>Patricia</td>\n",
       "      <td>Hart</td>\n",
       "      <td>Female</td>\n",
       "      <td>New Mexico</td>\n",
       "      <td>36</td>\n",
       "      <td>1/1/2017</td>\n",
       "      <td>0</td>\n",
       "      <td>single</td>\n",
       "      <td>59285</td>\n",
       "    </tr>\n",
       "    <tr>\n",
       "      <th>2</th>\n",
       "      <td>65803</td>\n",
       "      <td>Kenneth</td>\n",
       "      <td>Farley</td>\n",
       "      <td>Male</td>\n",
       "      <td>Idaho</td>\n",
       "      <td>35</td>\n",
       "      <td>1/1/2017</td>\n",
       "      <td>2</td>\n",
       "      <td>married</td>\n",
       "      <td>99568</td>\n",
       "    </tr>\n",
       "    <tr>\n",
       "      <th>3</th>\n",
       "      <td>125935</td>\n",
       "      <td>Michelle</td>\n",
       "      <td>Hicks</td>\n",
       "      <td>Female</td>\n",
       "      <td>Iowa</td>\n",
       "      <td>40</td>\n",
       "      <td>1/1/2017</td>\n",
       "      <td>0</td>\n",
       "      <td>single</td>\n",
       "      <td>42049</td>\n",
       "    </tr>\n",
       "    <tr>\n",
       "      <th>4</th>\n",
       "      <td>130797</td>\n",
       "      <td>Ann</td>\n",
       "      <td>Gilmore</td>\n",
       "      <td>Female</td>\n",
       "      <td>Maryland</td>\n",
       "      <td>26</td>\n",
       "      <td>1/1/2017</td>\n",
       "      <td>1</td>\n",
       "      <td>married</td>\n",
       "      <td>40374</td>\n",
       "    </tr>\n",
       "  </tbody>\n",
       "</table>\n",
       "</div>"
      ],
      "text/plain": [
       "   user_id First Name    Surnam  Gender       STATE  Age date_joined  \\\n",
       "0    26711    Deborah  Esquivel  Female    Missouri   48    1/1/2017   \n",
       "1    33890   Patricia      Hart  Female  New Mexico   36    1/1/2017   \n",
       "2    65803    Kenneth    Farley    Male       Idaho   35    1/1/2017   \n",
       "3   125935   Michelle     Hicks  Female        Iowa   40    1/1/2017   \n",
       "4   130797        Ann   Gilmore  Female    Maryland   26    1/1/2017   \n",
       "\n",
       "   n_dependants fam_status  income  \n",
       "0             3    married  165665  \n",
       "1             0     single   59285  \n",
       "2             2    married   99568  \n",
       "3             0     single   42049  \n",
       "4             1    married   40374  "
      ]
     },
     "execution_count": 5,
     "metadata": {},
     "output_type": "execute_result"
    }
   ],
   "source": [
    "df_customer.head()"
   ]
  },
  {
   "cell_type": "code",
   "execution_count": 6,
   "id": "e7eadf8d",
   "metadata": {},
   "outputs": [
    {
     "data": {
      "text/plain": [
       "(206209, 10)"
      ]
     },
     "execution_count": 6,
     "metadata": {},
     "output_type": "execute_result"
    }
   ],
   "source": [
    "df_customer.shape"
   ]
  },
  {
   "cell_type": "markdown",
   "id": "ba16f11f",
   "metadata": {},
   "source": [
    "### Observation: \n",
    "\n",
    "#### - First Name can be renamed to 'first_name'\n",
    "#### - Surnam can be renamed to 'last_name'\n",
    "#### - Gender can be renamed to 'gender'\n",
    "#### - STATE can be renamed to 'state'\n",
    "#### - Age can be renamed to 'age'\n",
    "#### - n_dependants can be renamed to 'number_of_dependents'\n",
    "#### - fam_status can be renamed to 'marital_status'\n",
    "#### - income can be renamed to 'spending_power'"
   ]
  },
  {
   "cell_type": "markdown",
   "id": "d7f6aedf",
   "metadata": {},
   "source": [
    "### 3.1 Dropping Columns"
   ]
  },
  {
   "cell_type": "markdown",
   "id": "ac96f117",
   "metadata": {},
   "source": [
    "### I've decided not to drop any columns."
   ]
  },
  {
   "cell_type": "markdown",
   "id": "64e62e91",
   "metadata": {},
   "source": [
    "### 3.2 Renaming Columns"
   ]
  },
  {
   "cell_type": "code",
   "execution_count": 7,
   "id": "a2a94cf7",
   "metadata": {},
   "outputs": [],
   "source": [
    "df_customer.rename(columns = {'First Name' : 'first_name', 'Surnam' : 'last_name', 'Gender' : 'gender', 'STATE' : 'state', 'Age' : 'age', 'n_dependants' : 'number_of_dependents', 'fam_status' : 'marital_status', 'income' : 'spending_power' }, inplace = True)"
   ]
  },
  {
   "cell_type": "code",
   "execution_count": 8,
   "id": "284ed092",
   "metadata": {
    "scrolled": true
   },
   "outputs": [
    {
     "data": {
      "text/html": [
       "<div>\n",
       "<style scoped>\n",
       "    .dataframe tbody tr th:only-of-type {\n",
       "        vertical-align: middle;\n",
       "    }\n",
       "\n",
       "    .dataframe tbody tr th {\n",
       "        vertical-align: top;\n",
       "    }\n",
       "\n",
       "    .dataframe thead th {\n",
       "        text-align: right;\n",
       "    }\n",
       "</style>\n",
       "<table border=\"1\" class=\"dataframe\">\n",
       "  <thead>\n",
       "    <tr style=\"text-align: right;\">\n",
       "      <th></th>\n",
       "      <th>user_id</th>\n",
       "      <th>first_name</th>\n",
       "      <th>last_name</th>\n",
       "      <th>gender</th>\n",
       "      <th>state</th>\n",
       "      <th>age</th>\n",
       "      <th>date_joined</th>\n",
       "      <th>number_of_dependents</th>\n",
       "      <th>marital_status</th>\n",
       "      <th>spending_power</th>\n",
       "    </tr>\n",
       "  </thead>\n",
       "  <tbody>\n",
       "    <tr>\n",
       "      <th>0</th>\n",
       "      <td>26711</td>\n",
       "      <td>Deborah</td>\n",
       "      <td>Esquivel</td>\n",
       "      <td>Female</td>\n",
       "      <td>Missouri</td>\n",
       "      <td>48</td>\n",
       "      <td>1/1/2017</td>\n",
       "      <td>3</td>\n",
       "      <td>married</td>\n",
       "      <td>165665</td>\n",
       "    </tr>\n",
       "    <tr>\n",
       "      <th>1</th>\n",
       "      <td>33890</td>\n",
       "      <td>Patricia</td>\n",
       "      <td>Hart</td>\n",
       "      <td>Female</td>\n",
       "      <td>New Mexico</td>\n",
       "      <td>36</td>\n",
       "      <td>1/1/2017</td>\n",
       "      <td>0</td>\n",
       "      <td>single</td>\n",
       "      <td>59285</td>\n",
       "    </tr>\n",
       "    <tr>\n",
       "      <th>2</th>\n",
       "      <td>65803</td>\n",
       "      <td>Kenneth</td>\n",
       "      <td>Farley</td>\n",
       "      <td>Male</td>\n",
       "      <td>Idaho</td>\n",
       "      <td>35</td>\n",
       "      <td>1/1/2017</td>\n",
       "      <td>2</td>\n",
       "      <td>married</td>\n",
       "      <td>99568</td>\n",
       "    </tr>\n",
       "    <tr>\n",
       "      <th>3</th>\n",
       "      <td>125935</td>\n",
       "      <td>Michelle</td>\n",
       "      <td>Hicks</td>\n",
       "      <td>Female</td>\n",
       "      <td>Iowa</td>\n",
       "      <td>40</td>\n",
       "      <td>1/1/2017</td>\n",
       "      <td>0</td>\n",
       "      <td>single</td>\n",
       "      <td>42049</td>\n",
       "    </tr>\n",
       "    <tr>\n",
       "      <th>4</th>\n",
       "      <td>130797</td>\n",
       "      <td>Ann</td>\n",
       "      <td>Gilmore</td>\n",
       "      <td>Female</td>\n",
       "      <td>Maryland</td>\n",
       "      <td>26</td>\n",
       "      <td>1/1/2017</td>\n",
       "      <td>1</td>\n",
       "      <td>married</td>\n",
       "      <td>40374</td>\n",
       "    </tr>\n",
       "  </tbody>\n",
       "</table>\n",
       "</div>"
      ],
      "text/plain": [
       "   user_id first_name last_name  gender       state  age date_joined  \\\n",
       "0    26711    Deborah  Esquivel  Female    Missouri   48    1/1/2017   \n",
       "1    33890   Patricia      Hart  Female  New Mexico   36    1/1/2017   \n",
       "2    65803    Kenneth    Farley    Male       Idaho   35    1/1/2017   \n",
       "3   125935   Michelle     Hicks  Female        Iowa   40    1/1/2017   \n",
       "4   130797        Ann   Gilmore  Female    Maryland   26    1/1/2017   \n",
       "\n",
       "   number_of_dependents marital_status  spending_power  \n",
       "0                     3        married          165665  \n",
       "1                     0         single           59285  \n",
       "2                     2        married           99568  \n",
       "3                     0         single           42049  \n",
       "4                     1        married           40374  "
      ]
     },
     "execution_count": 8,
     "metadata": {},
     "output_type": "execute_result"
    }
   ],
   "source": [
    "df_customer.head()"
   ]
  },
  {
   "cell_type": "code",
   "execution_count": 9,
   "id": "a8d35c01",
   "metadata": {},
   "outputs": [],
   "source": [
    "# Change of the data type of the columns from a number to a string to ignore when calculating descriptive statistics\n",
    "df_customer['user_id'] = df_customer['user_id'].astype('str')"
   ]
  },
  {
   "cell_type": "code",
   "execution_count": 10,
   "id": "92daa1ce",
   "metadata": {},
   "outputs": [
    {
     "data": {
      "text/plain": [
       "dtype('O')"
      ]
     },
     "execution_count": 10,
     "metadata": {},
     "output_type": "execute_result"
    }
   ],
   "source": [
    "df_customer['user_id'].dtype"
   ]
  },
  {
   "cell_type": "markdown",
   "id": "8cc3cdd0",
   "metadata": {},
   "source": [
    "## 04. Data Consistency Checks"
   ]
  },
  {
   "cell_type": "markdown",
   "id": "a3130423",
   "metadata": {},
   "source": [
    "### 4.1 Interpret the output of the df.describe() function"
   ]
  },
  {
   "cell_type": "code",
   "execution_count": 11,
   "id": "6cd8a7ee",
   "metadata": {},
   "outputs": [
    {
     "data": {
      "text/html": [
       "<div>\n",
       "<style scoped>\n",
       "    .dataframe tbody tr th:only-of-type {\n",
       "        vertical-align: middle;\n",
       "    }\n",
       "\n",
       "    .dataframe tbody tr th {\n",
       "        vertical-align: top;\n",
       "    }\n",
       "\n",
       "    .dataframe thead th {\n",
       "        text-align: right;\n",
       "    }\n",
       "</style>\n",
       "<table border=\"1\" class=\"dataframe\">\n",
       "  <thead>\n",
       "    <tr style=\"text-align: right;\">\n",
       "      <th></th>\n",
       "      <th>age</th>\n",
       "      <th>number_of_dependents</th>\n",
       "      <th>spending_power</th>\n",
       "    </tr>\n",
       "  </thead>\n",
       "  <tbody>\n",
       "    <tr>\n",
       "      <th>count</th>\n",
       "      <td>206209.000000</td>\n",
       "      <td>206209.000000</td>\n",
       "      <td>206209.000000</td>\n",
       "    </tr>\n",
       "    <tr>\n",
       "      <th>mean</th>\n",
       "      <td>49.501646</td>\n",
       "      <td>1.499823</td>\n",
       "      <td>94632.852548</td>\n",
       "    </tr>\n",
       "    <tr>\n",
       "      <th>std</th>\n",
       "      <td>18.480962</td>\n",
       "      <td>1.118433</td>\n",
       "      <td>42473.786988</td>\n",
       "    </tr>\n",
       "    <tr>\n",
       "      <th>min</th>\n",
       "      <td>18.000000</td>\n",
       "      <td>0.000000</td>\n",
       "      <td>25903.000000</td>\n",
       "    </tr>\n",
       "    <tr>\n",
       "      <th>25%</th>\n",
       "      <td>33.000000</td>\n",
       "      <td>0.000000</td>\n",
       "      <td>59874.000000</td>\n",
       "    </tr>\n",
       "    <tr>\n",
       "      <th>50%</th>\n",
       "      <td>49.000000</td>\n",
       "      <td>1.000000</td>\n",
       "      <td>93547.000000</td>\n",
       "    </tr>\n",
       "    <tr>\n",
       "      <th>75%</th>\n",
       "      <td>66.000000</td>\n",
       "      <td>3.000000</td>\n",
       "      <td>124244.000000</td>\n",
       "    </tr>\n",
       "    <tr>\n",
       "      <th>max</th>\n",
       "      <td>81.000000</td>\n",
       "      <td>3.000000</td>\n",
       "      <td>593901.000000</td>\n",
       "    </tr>\n",
       "  </tbody>\n",
       "</table>\n",
       "</div>"
      ],
      "text/plain": [
       "                 age  number_of_dependents  spending_power\n",
       "count  206209.000000         206209.000000   206209.000000\n",
       "mean       49.501646              1.499823    94632.852548\n",
       "std        18.480962              1.118433    42473.786988\n",
       "min        18.000000              0.000000    25903.000000\n",
       "25%        33.000000              0.000000    59874.000000\n",
       "50%        49.000000              1.000000    93547.000000\n",
       "75%        66.000000              3.000000   124244.000000\n",
       "max        81.000000              3.000000   593901.000000"
      ]
     },
     "execution_count": 11,
     "metadata": {},
     "output_type": "execute_result"
    }
   ],
   "source": [
    "df_customer.describe()"
   ]
  },
  {
   "cell_type": "markdown",
   "id": "ea9950ce",
   "metadata": {},
   "source": [
    "#### Investigating the frequency table, in particular the max and min section, i didn't find anyting strange about the data.\n",
    "- age, result in a minimum of 18 and a maximum of 81\n",
    "- number_of_dependents, result in a minimum of 0 and a maximum of 3.\n",
    "- spending_power, result in a minimum of 25.903 and a maximum of 593.901."
   ]
  },
  {
   "cell_type": "markdown",
   "id": "de996d58",
   "metadata": {},
   "source": [
    "### 4.2. Check for mixed-type data in your df_ords dataframe"
   ]
  },
  {
   "cell_type": "code",
   "execution_count": 12,
   "id": "d4fce862",
   "metadata": {},
   "outputs": [
    {
     "name": "stdout",
     "output_type": "stream",
     "text": [
      "first_name\n"
     ]
    }
   ],
   "source": [
    "# Check for mixed types\n",
    "for col in df_customer.columns.tolist():\n",
    "  weird = (df_customer[[col]].applymap(type) != df_customer[[col]].iloc[0].apply(type)).any(axis = 1)\n",
    "  if len (df_customer[weird]) > 0:\n",
    "    print (col)"
   ]
  },
  {
   "cell_type": "markdown",
   "id": "17615871",
   "metadata": {},
   "source": [
    "#### Observation: The column 'first_name' contains mixed data type"
   ]
  },
  {
   "cell_type": "code",
   "execution_count": 13,
   "id": "10f6f7c5",
   "metadata": {},
   "outputs": [
    {
     "data": {
      "text/plain": [
       "dtype('O')"
      ]
     },
     "execution_count": 13,
     "metadata": {},
     "output_type": "execute_result"
    }
   ],
   "source": [
    "df_customer['first_name'].dtypes"
   ]
  },
  {
   "cell_type": "markdown",
   "id": "c33bde5c",
   "metadata": {},
   "source": [
    "### 4.3 Finding Missing Values"
   ]
  },
  {
   "cell_type": "code",
   "execution_count": 14,
   "id": "a51d33c2",
   "metadata": {},
   "outputs": [
    {
     "data": {
      "text/plain": [
       "user_id                     0\n",
       "first_name              11259\n",
       "last_name                   0\n",
       "gender                      0\n",
       "state                       0\n",
       "age                         0\n",
       "date_joined                 0\n",
       "number_of_dependents        0\n",
       "marital_status              0\n",
       "spending_power              0\n",
       "dtype: int64"
      ]
     },
     "execution_count": 14,
     "metadata": {},
     "output_type": "execute_result"
    }
   ],
   "source": [
    "df_customer.isnull().sum()"
   ]
  },
  {
   "cell_type": "code",
   "execution_count": 15,
   "id": "93e4cf09",
   "metadata": {},
   "outputs": [],
   "source": [
    "df_nan = df_customer[df_customer['first_name'].isnull() == True]"
   ]
  },
  {
   "cell_type": "code",
   "execution_count": 16,
   "id": "d7f8fa3d",
   "metadata": {
    "scrolled": true
   },
   "outputs": [
    {
     "data": {
      "text/html": [
       "<div>\n",
       "<style scoped>\n",
       "    .dataframe tbody tr th:only-of-type {\n",
       "        vertical-align: middle;\n",
       "    }\n",
       "\n",
       "    .dataframe tbody tr th {\n",
       "        vertical-align: top;\n",
       "    }\n",
       "\n",
       "    .dataframe thead th {\n",
       "        text-align: right;\n",
       "    }\n",
       "</style>\n",
       "<table border=\"1\" class=\"dataframe\">\n",
       "  <thead>\n",
       "    <tr style=\"text-align: right;\">\n",
       "      <th></th>\n",
       "      <th>user_id</th>\n",
       "      <th>first_name</th>\n",
       "      <th>last_name</th>\n",
       "      <th>gender</th>\n",
       "      <th>state</th>\n",
       "      <th>age</th>\n",
       "      <th>date_joined</th>\n",
       "      <th>number_of_dependents</th>\n",
       "      <th>marital_status</th>\n",
       "      <th>spending_power</th>\n",
       "    </tr>\n",
       "  </thead>\n",
       "  <tbody>\n",
       "    <tr>\n",
       "      <th>53</th>\n",
       "      <td>76659</td>\n",
       "      <td>NaN</td>\n",
       "      <td>Gilbert</td>\n",
       "      <td>Male</td>\n",
       "      <td>Colorado</td>\n",
       "      <td>26</td>\n",
       "      <td>1/1/2017</td>\n",
       "      <td>2</td>\n",
       "      <td>married</td>\n",
       "      <td>41709</td>\n",
       "    </tr>\n",
       "    <tr>\n",
       "      <th>73</th>\n",
       "      <td>13738</td>\n",
       "      <td>NaN</td>\n",
       "      <td>Frost</td>\n",
       "      <td>Female</td>\n",
       "      <td>Louisiana</td>\n",
       "      <td>39</td>\n",
       "      <td>1/1/2017</td>\n",
       "      <td>0</td>\n",
       "      <td>single</td>\n",
       "      <td>82518</td>\n",
       "    </tr>\n",
       "    <tr>\n",
       "      <th>82</th>\n",
       "      <td>89996</td>\n",
       "      <td>NaN</td>\n",
       "      <td>Dawson</td>\n",
       "      <td>Female</td>\n",
       "      <td>Oregon</td>\n",
       "      <td>52</td>\n",
       "      <td>1/1/2017</td>\n",
       "      <td>3</td>\n",
       "      <td>married</td>\n",
       "      <td>117099</td>\n",
       "    </tr>\n",
       "    <tr>\n",
       "      <th>99</th>\n",
       "      <td>96166</td>\n",
       "      <td>NaN</td>\n",
       "      <td>Oconnor</td>\n",
       "      <td>Male</td>\n",
       "      <td>Oklahoma</td>\n",
       "      <td>51</td>\n",
       "      <td>1/1/2017</td>\n",
       "      <td>1</td>\n",
       "      <td>married</td>\n",
       "      <td>155673</td>\n",
       "    </tr>\n",
       "    <tr>\n",
       "      <th>105</th>\n",
       "      <td>29778</td>\n",
       "      <td>NaN</td>\n",
       "      <td>Dawson</td>\n",
       "      <td>Female</td>\n",
       "      <td>Utah</td>\n",
       "      <td>63</td>\n",
       "      <td>1/1/2017</td>\n",
       "      <td>3</td>\n",
       "      <td>married</td>\n",
       "      <td>151819</td>\n",
       "    </tr>\n",
       "    <tr>\n",
       "      <th>...</th>\n",
       "      <td>...</td>\n",
       "      <td>...</td>\n",
       "      <td>...</td>\n",
       "      <td>...</td>\n",
       "      <td>...</td>\n",
       "      <td>...</td>\n",
       "      <td>...</td>\n",
       "      <td>...</td>\n",
       "      <td>...</td>\n",
       "      <td>...</td>\n",
       "    </tr>\n",
       "    <tr>\n",
       "      <th>206038</th>\n",
       "      <td>121317</td>\n",
       "      <td>NaN</td>\n",
       "      <td>Melton</td>\n",
       "      <td>Male</td>\n",
       "      <td>Pennsylvania</td>\n",
       "      <td>28</td>\n",
       "      <td>3/31/2020</td>\n",
       "      <td>3</td>\n",
       "      <td>married</td>\n",
       "      <td>87783</td>\n",
       "    </tr>\n",
       "    <tr>\n",
       "      <th>206044</th>\n",
       "      <td>200799</td>\n",
       "      <td>NaN</td>\n",
       "      <td>Copeland</td>\n",
       "      <td>Female</td>\n",
       "      <td>Hawaii</td>\n",
       "      <td>52</td>\n",
       "      <td>4/1/2020</td>\n",
       "      <td>2</td>\n",
       "      <td>married</td>\n",
       "      <td>108488</td>\n",
       "    </tr>\n",
       "    <tr>\n",
       "      <th>206090</th>\n",
       "      <td>167394</td>\n",
       "      <td>NaN</td>\n",
       "      <td>Frost</td>\n",
       "      <td>Female</td>\n",
       "      <td>Hawaii</td>\n",
       "      <td>61</td>\n",
       "      <td>4/1/2020</td>\n",
       "      <td>1</td>\n",
       "      <td>married</td>\n",
       "      <td>45275</td>\n",
       "    </tr>\n",
       "    <tr>\n",
       "      <th>206162</th>\n",
       "      <td>187532</td>\n",
       "      <td>NaN</td>\n",
       "      <td>Floyd</td>\n",
       "      <td>Female</td>\n",
       "      <td>California</td>\n",
       "      <td>39</td>\n",
       "      <td>4/1/2020</td>\n",
       "      <td>0</td>\n",
       "      <td>single</td>\n",
       "      <td>56325</td>\n",
       "    </tr>\n",
       "    <tr>\n",
       "      <th>206171</th>\n",
       "      <td>116898</td>\n",
       "      <td>NaN</td>\n",
       "      <td>Delgado</td>\n",
       "      <td>Female</td>\n",
       "      <td>Colorado</td>\n",
       "      <td>23</td>\n",
       "      <td>4/1/2020</td>\n",
       "      <td>2</td>\n",
       "      <td>married</td>\n",
       "      <td>59222</td>\n",
       "    </tr>\n",
       "  </tbody>\n",
       "</table>\n",
       "<p>11259 rows × 10 columns</p>\n",
       "</div>"
      ],
      "text/plain": [
       "       user_id first_name last_name  gender         state  age date_joined  \\\n",
       "53       76659        NaN   Gilbert    Male      Colorado   26    1/1/2017   \n",
       "73       13738        NaN     Frost  Female     Louisiana   39    1/1/2017   \n",
       "82       89996        NaN    Dawson  Female        Oregon   52    1/1/2017   \n",
       "99       96166        NaN   Oconnor    Male      Oklahoma   51    1/1/2017   \n",
       "105      29778        NaN    Dawson  Female          Utah   63    1/1/2017   \n",
       "...        ...        ...       ...     ...           ...  ...         ...   \n",
       "206038  121317        NaN    Melton    Male  Pennsylvania   28   3/31/2020   \n",
       "206044  200799        NaN  Copeland  Female        Hawaii   52    4/1/2020   \n",
       "206090  167394        NaN     Frost  Female        Hawaii   61    4/1/2020   \n",
       "206162  187532        NaN     Floyd  Female    California   39    4/1/2020   \n",
       "206171  116898        NaN   Delgado  Female      Colorado   23    4/1/2020   \n",
       "\n",
       "        number_of_dependents marital_status  spending_power  \n",
       "53                         2        married           41709  \n",
       "73                         0         single           82518  \n",
       "82                         3        married          117099  \n",
       "99                         1        married          155673  \n",
       "105                        3        married          151819  \n",
       "...                      ...            ...             ...  \n",
       "206038                     3        married           87783  \n",
       "206044                     2        married          108488  \n",
       "206090                     1        married           45275  \n",
       "206162                     0         single           56325  \n",
       "206171                     2        married           59222  \n",
       "\n",
       "[11259 rows x 10 columns]"
      ]
     },
     "execution_count": 16,
     "metadata": {},
     "output_type": "execute_result"
    }
   ],
   "source": [
    "df_nan"
   ]
  },
  {
   "cell_type": "markdown",
   "id": "e6d30aa0",
   "metadata": {},
   "source": [
    "#### Observation: mixed data type in column ' 'first_name' is due to 11259 'NaN' values, but i wouldn't delete those rows because the rest of them are holding meaningful information"
   ]
  },
  {
   "cell_type": "markdown",
   "id": "7e7c7c1a",
   "metadata": {},
   "source": [
    "### 4.4. Addressing Missing Values"
   ]
  },
  {
   "cell_type": "code",
   "execution_count": 17,
   "id": "7796d7ee",
   "metadata": {},
   "outputs": [],
   "source": [
    "# Replace NaN value with 'Unknown'\n",
    "df_customer['first_name'].fillna('Unknown', inplace=True)"
   ]
  },
  {
   "cell_type": "code",
   "execution_count": 18,
   "id": "1f47786c",
   "metadata": {},
   "outputs": [],
   "source": [
    "# cross-check  if there's mixed value types\n",
    "for col in df_customer.columns.tolist():\n",
    "  weird = (df_customer[[col]].applymap(type) != df_customer[[col]].iloc[0].apply(type)).any(axis = 1)\n",
    "  if len (df_customer[weird]) > 0:\n",
    "    print (col)"
   ]
  },
  {
   "cell_type": "markdown",
   "id": "fd5876b3",
   "metadata": {},
   "source": [
    "### There are no mixed data type in the dataframe anymore."
   ]
  },
  {
   "cell_type": "code",
   "execution_count": 19,
   "id": "ade34897",
   "metadata": {},
   "outputs": [],
   "source": [
    "# Delete columns 'first_name' and 'last_name', we don't need the names for the analysis\n",
    "customer = df_customer.drop(columns = ['first_name', 'last_name'])"
   ]
  },
  {
   "cell_type": "markdown",
   "id": "82e74214",
   "metadata": {},
   "source": [
    "### 4.5 Addressing Duplicates"
   ]
  },
  {
   "cell_type": "code",
   "execution_count": 20,
   "id": "bacaac38",
   "metadata": {},
   "outputs": [],
   "source": [
    "customer_dups = customer[df_customer.duplicated()]"
   ]
  },
  {
   "cell_type": "code",
   "execution_count": 21,
   "id": "41b6d4ea",
   "metadata": {},
   "outputs": [
    {
     "data": {
      "text/html": [
       "<div>\n",
       "<style scoped>\n",
       "    .dataframe tbody tr th:only-of-type {\n",
       "        vertical-align: middle;\n",
       "    }\n",
       "\n",
       "    .dataframe tbody tr th {\n",
       "        vertical-align: top;\n",
       "    }\n",
       "\n",
       "    .dataframe thead th {\n",
       "        text-align: right;\n",
       "    }\n",
       "</style>\n",
       "<table border=\"1\" class=\"dataframe\">\n",
       "  <thead>\n",
       "    <tr style=\"text-align: right;\">\n",
       "      <th></th>\n",
       "      <th>user_id</th>\n",
       "      <th>gender</th>\n",
       "      <th>state</th>\n",
       "      <th>age</th>\n",
       "      <th>date_joined</th>\n",
       "      <th>number_of_dependents</th>\n",
       "      <th>marital_status</th>\n",
       "      <th>spending_power</th>\n",
       "    </tr>\n",
       "  </thead>\n",
       "  <tbody>\n",
       "  </tbody>\n",
       "</table>\n",
       "</div>"
      ],
      "text/plain": [
       "Empty DataFrame\n",
       "Columns: [user_id, gender, state, age, date_joined, number_of_dependents, marital_status, spending_power]\n",
       "Index: []"
      ]
     },
     "execution_count": 21,
     "metadata": {},
     "output_type": "execute_result"
    }
   ],
   "source": [
    "customer_dups"
   ]
  },
  {
   "cell_type": "markdown",
   "id": "d3f15222",
   "metadata": {},
   "source": [
    "### No duplicates found."
   ]
  },
  {
   "cell_type": "code",
   "execution_count": 22,
   "id": "a30af63c",
   "metadata": {},
   "outputs": [
    {
     "data": {
      "text/plain": [
       "(206209, 8)"
      ]
     },
     "execution_count": 22,
     "metadata": {},
     "output_type": "execute_result"
    }
   ],
   "source": [
    "customer.shape"
   ]
  },
  {
   "cell_type": "markdown",
   "id": "04d8f86f",
   "metadata": {},
   "source": [
    "## 05. Combine the customer data with the rest of your prepared Instacart data\n",
    "\n",
    "#### Hint: Make sure the key columns are the same data type!"
   ]
  },
  {
   "cell_type": "code",
   "execution_count": 23,
   "id": "ca53aa9b",
   "metadata": {},
   "outputs": [
    {
     "data": {
      "text/plain": [
       "dtype('int64')"
      ]
     },
     "execution_count": 23,
     "metadata": {},
     "output_type": "execute_result"
    }
   ],
   "source": [
    "ords_prods_agg['user_id'].dtype"
   ]
  },
  {
   "cell_type": "code",
   "execution_count": 24,
   "id": "b3a84163",
   "metadata": {},
   "outputs": [],
   "source": [
    "# Change of the data type of the columns from a string to a number, so the key columns are the same data type\n",
    "customer['user_id'] = customer['user_id'].astype('int64')"
   ]
  },
  {
   "cell_type": "code",
   "execution_count": 25,
   "id": "0607b78a",
   "metadata": {
    "scrolled": true
   },
   "outputs": [
    {
     "data": {
      "text/plain": [
       "dtype('int64')"
      ]
     },
     "execution_count": 25,
     "metadata": {},
     "output_type": "execute_result"
    }
   ],
   "source": [
    "customer['user_id'].dtype"
   ]
  },
  {
   "cell_type": "code",
   "execution_count": 26,
   "id": "5c58ba29",
   "metadata": {},
   "outputs": [
    {
     "data": {
      "text/plain": [
       "(32404859, 23)"
      ]
     },
     "execution_count": 26,
     "metadata": {},
     "output_type": "execute_result"
    }
   ],
   "source": [
    "ords_prods_agg.shape"
   ]
  },
  {
   "cell_type": "code",
   "execution_count": 27,
   "id": "6e1e0878",
   "metadata": {
    "scrolled": true
   },
   "outputs": [
    {
     "data": {
      "text/html": [
       "<div>\n",
       "<style scoped>\n",
       "    .dataframe tbody tr th:only-of-type {\n",
       "        vertical-align: middle;\n",
       "    }\n",
       "\n",
       "    .dataframe tbody tr th {\n",
       "        vertical-align: top;\n",
       "    }\n",
       "\n",
       "    .dataframe thead th {\n",
       "        text-align: right;\n",
       "    }\n",
       "</style>\n",
       "<table border=\"1\" class=\"dataframe\">\n",
       "  <thead>\n",
       "    <tr style=\"text-align: right;\">\n",
       "      <th></th>\n",
       "      <th>order_id</th>\n",
       "      <th>user_id</th>\n",
       "      <th>order_number</th>\n",
       "      <th>orders_day_of_week</th>\n",
       "      <th>order_hour_of_day</th>\n",
       "      <th>days_since_last_order</th>\n",
       "      <th>product_id</th>\n",
       "      <th>add_to_cart_order</th>\n",
       "      <th>reordered</th>\n",
       "      <th>product_name</th>\n",
       "      <th>...</th>\n",
       "      <th>_merge</th>\n",
       "      <th>price_range</th>\n",
       "      <th>busiest_days</th>\n",
       "      <th>busiest_period_of_day</th>\n",
       "      <th>max_order</th>\n",
       "      <th>loyalty_flag</th>\n",
       "      <th>mean_prices</th>\n",
       "      <th>spending_flag</th>\n",
       "      <th>median_days_since_last_order</th>\n",
       "      <th>frequency_flag</th>\n",
       "    </tr>\n",
       "  </thead>\n",
       "  <tbody>\n",
       "    <tr>\n",
       "      <th>0</th>\n",
       "      <td>2539329</td>\n",
       "      <td>1</td>\n",
       "      <td>1</td>\n",
       "      <td>2</td>\n",
       "      <td>8</td>\n",
       "      <td>NaN</td>\n",
       "      <td>196</td>\n",
       "      <td>1</td>\n",
       "      <td>0</td>\n",
       "      <td>Soda</td>\n",
       "      <td>...</td>\n",
       "      <td>both</td>\n",
       "      <td>Mid-range product</td>\n",
       "      <td>Regularly busy</td>\n",
       "      <td>Average orders</td>\n",
       "      <td>10</td>\n",
       "      <td>New customer</td>\n",
       "      <td>6.367797</td>\n",
       "      <td>Low spender</td>\n",
       "      <td>20.5</td>\n",
       "      <td>Non-frequent customer</td>\n",
       "    </tr>\n",
       "    <tr>\n",
       "      <th>1</th>\n",
       "      <td>2398795</td>\n",
       "      <td>1</td>\n",
       "      <td>2</td>\n",
       "      <td>3</td>\n",
       "      <td>7</td>\n",
       "      <td>15.0</td>\n",
       "      <td>196</td>\n",
       "      <td>1</td>\n",
       "      <td>1</td>\n",
       "      <td>Soda</td>\n",
       "      <td>...</td>\n",
       "      <td>both</td>\n",
       "      <td>Mid-range product</td>\n",
       "      <td>Slowes days</td>\n",
       "      <td>Average orders</td>\n",
       "      <td>10</td>\n",
       "      <td>New customer</td>\n",
       "      <td>6.367797</td>\n",
       "      <td>Low spender</td>\n",
       "      <td>20.5</td>\n",
       "      <td>Non-frequent customer</td>\n",
       "    </tr>\n",
       "    <tr>\n",
       "      <th>2</th>\n",
       "      <td>473747</td>\n",
       "      <td>1</td>\n",
       "      <td>3</td>\n",
       "      <td>3</td>\n",
       "      <td>12</td>\n",
       "      <td>21.0</td>\n",
       "      <td>196</td>\n",
       "      <td>1</td>\n",
       "      <td>1</td>\n",
       "      <td>Soda</td>\n",
       "      <td>...</td>\n",
       "      <td>both</td>\n",
       "      <td>Mid-range product</td>\n",
       "      <td>Slowes days</td>\n",
       "      <td>Most orders</td>\n",
       "      <td>10</td>\n",
       "      <td>New customer</td>\n",
       "      <td>6.367797</td>\n",
       "      <td>Low spender</td>\n",
       "      <td>20.5</td>\n",
       "      <td>Non-frequent customer</td>\n",
       "    </tr>\n",
       "    <tr>\n",
       "      <th>3</th>\n",
       "      <td>2254736</td>\n",
       "      <td>1</td>\n",
       "      <td>4</td>\n",
       "      <td>4</td>\n",
       "      <td>7</td>\n",
       "      <td>29.0</td>\n",
       "      <td>196</td>\n",
       "      <td>1</td>\n",
       "      <td>1</td>\n",
       "      <td>Soda</td>\n",
       "      <td>...</td>\n",
       "      <td>both</td>\n",
       "      <td>Mid-range product</td>\n",
       "      <td>Slowes days</td>\n",
       "      <td>Average orders</td>\n",
       "      <td>10</td>\n",
       "      <td>New customer</td>\n",
       "      <td>6.367797</td>\n",
       "      <td>Low spender</td>\n",
       "      <td>20.5</td>\n",
       "      <td>Non-frequent customer</td>\n",
       "    </tr>\n",
       "    <tr>\n",
       "      <th>4</th>\n",
       "      <td>431534</td>\n",
       "      <td>1</td>\n",
       "      <td>5</td>\n",
       "      <td>4</td>\n",
       "      <td>15</td>\n",
       "      <td>28.0</td>\n",
       "      <td>196</td>\n",
       "      <td>1</td>\n",
       "      <td>1</td>\n",
       "      <td>Soda</td>\n",
       "      <td>...</td>\n",
       "      <td>both</td>\n",
       "      <td>Mid-range product</td>\n",
       "      <td>Slowes days</td>\n",
       "      <td>Most orders</td>\n",
       "      <td>10</td>\n",
       "      <td>New customer</td>\n",
       "      <td>6.367797</td>\n",
       "      <td>Low spender</td>\n",
       "      <td>20.5</td>\n",
       "      <td>Non-frequent customer</td>\n",
       "    </tr>\n",
       "  </tbody>\n",
       "</table>\n",
       "<p>5 rows × 23 columns</p>\n",
       "</div>"
      ],
      "text/plain": [
       "   order_id  user_id  order_number  orders_day_of_week  order_hour_of_day  \\\n",
       "0   2539329        1             1                   2                  8   \n",
       "1   2398795        1             2                   3                  7   \n",
       "2    473747        1             3                   3                 12   \n",
       "3   2254736        1             4                   4                  7   \n",
       "4    431534        1             5                   4                 15   \n",
       "\n",
       "   days_since_last_order  product_id  add_to_cart_order  reordered  \\\n",
       "0                    NaN         196                  1          0   \n",
       "1                   15.0         196                  1          1   \n",
       "2                   21.0         196                  1          1   \n",
       "3                   29.0         196                  1          1   \n",
       "4                   28.0         196                  1          1   \n",
       "\n",
       "  product_name  ...  _merge        price_range    busiest_days  \\\n",
       "0         Soda  ...    both  Mid-range product  Regularly busy   \n",
       "1         Soda  ...    both  Mid-range product     Slowes days   \n",
       "2         Soda  ...    both  Mid-range product     Slowes days   \n",
       "3         Soda  ...    both  Mid-range product     Slowes days   \n",
       "4         Soda  ...    both  Mid-range product     Slowes days   \n",
       "\n",
       "  busiest_period_of_day max_order  loyalty_flag mean_prices  spending_flag  \\\n",
       "0        Average orders        10  New customer    6.367797    Low spender   \n",
       "1        Average orders        10  New customer    6.367797    Low spender   \n",
       "2           Most orders        10  New customer    6.367797    Low spender   \n",
       "3        Average orders        10  New customer    6.367797    Low spender   \n",
       "4           Most orders        10  New customer    6.367797    Low spender   \n",
       "\n",
       "  median_days_since_last_order         frequency_flag  \n",
       "0                         20.5  Non-frequent customer  \n",
       "1                         20.5  Non-frequent customer  \n",
       "2                         20.5  Non-frequent customer  \n",
       "3                         20.5  Non-frequent customer  \n",
       "4                         20.5  Non-frequent customer  \n",
       "\n",
       "[5 rows x 23 columns]"
      ]
     },
     "execution_count": 27,
     "metadata": {},
     "output_type": "execute_result"
    }
   ],
   "source": [
    "ords_prods_agg.head()"
   ]
  },
  {
   "cell_type": "code",
   "execution_count": 28,
   "id": "50fb66f2",
   "metadata": {},
   "outputs": [],
   "source": [
    "# Dropping column _merge from df 'ords_prods_agg', since we will get new  “_merge” column from the new merge\n",
    "df_ords_prods_agg = ords_prods_agg.drop(columns = ['_merge'])"
   ]
  },
  {
   "cell_type": "code",
   "execution_count": 29,
   "id": "ecfadd2e",
   "metadata": {
    "scrolled": true
   },
   "outputs": [
    {
     "data": {
      "text/plain": [
       "(32404859, 22)"
      ]
     },
     "execution_count": 29,
     "metadata": {},
     "output_type": "execute_result"
    }
   ],
   "source": [
    "df_ords_prods_agg.shape"
   ]
  },
  {
   "cell_type": "code",
   "execution_count": 30,
   "id": "cea9fccf",
   "metadata": {},
   "outputs": [
    {
     "data": {
      "text/plain": [
       "(206209, 8)"
      ]
     },
     "execution_count": 30,
     "metadata": {},
     "output_type": "execute_result"
    }
   ],
   "source": [
    "customer.shape"
   ]
  },
  {
   "cell_type": "code",
   "execution_count": 31,
   "id": "d291883a",
   "metadata": {
    "scrolled": true
   },
   "outputs": [],
   "source": [
    "# Merge df_customer and df_ords_prior using user_id as a key \n",
    "ords_prods_customer_merged = ords_prods_agg.merge(customer, on = 'user_id')"
   ]
  },
  {
   "cell_type": "code",
   "execution_count": 32,
   "id": "99a00bb9",
   "metadata": {
    "scrolled": true
   },
   "outputs": [
    {
     "data": {
      "text/html": [
       "<div>\n",
       "<style scoped>\n",
       "    .dataframe tbody tr th:only-of-type {\n",
       "        vertical-align: middle;\n",
       "    }\n",
       "\n",
       "    .dataframe tbody tr th {\n",
       "        vertical-align: top;\n",
       "    }\n",
       "\n",
       "    .dataframe thead th {\n",
       "        text-align: right;\n",
       "    }\n",
       "</style>\n",
       "<table border=\"1\" class=\"dataframe\">\n",
       "  <thead>\n",
       "    <tr style=\"text-align: right;\">\n",
       "      <th></th>\n",
       "      <th>order_id</th>\n",
       "      <th>user_id</th>\n",
       "      <th>order_number</th>\n",
       "      <th>orders_day_of_week</th>\n",
       "      <th>order_hour_of_day</th>\n",
       "      <th>days_since_last_order</th>\n",
       "      <th>product_id</th>\n",
       "      <th>add_to_cart_order</th>\n",
       "      <th>reordered</th>\n",
       "      <th>product_name</th>\n",
       "      <th>...</th>\n",
       "      <th>spending_flag</th>\n",
       "      <th>median_days_since_last_order</th>\n",
       "      <th>frequency_flag</th>\n",
       "      <th>gender</th>\n",
       "      <th>state</th>\n",
       "      <th>age</th>\n",
       "      <th>date_joined</th>\n",
       "      <th>number_of_dependents</th>\n",
       "      <th>marital_status</th>\n",
       "      <th>spending_power</th>\n",
       "    </tr>\n",
       "  </thead>\n",
       "  <tbody>\n",
       "    <tr>\n",
       "      <th>0</th>\n",
       "      <td>2539329</td>\n",
       "      <td>1</td>\n",
       "      <td>1</td>\n",
       "      <td>2</td>\n",
       "      <td>8</td>\n",
       "      <td>NaN</td>\n",
       "      <td>196</td>\n",
       "      <td>1</td>\n",
       "      <td>0</td>\n",
       "      <td>Soda</td>\n",
       "      <td>...</td>\n",
       "      <td>Low spender</td>\n",
       "      <td>20.5</td>\n",
       "      <td>Non-frequent customer</td>\n",
       "      <td>Female</td>\n",
       "      <td>Alabama</td>\n",
       "      <td>31</td>\n",
       "      <td>2/17/2019</td>\n",
       "      <td>3</td>\n",
       "      <td>married</td>\n",
       "      <td>40423</td>\n",
       "    </tr>\n",
       "    <tr>\n",
       "      <th>1</th>\n",
       "      <td>2398795</td>\n",
       "      <td>1</td>\n",
       "      <td>2</td>\n",
       "      <td>3</td>\n",
       "      <td>7</td>\n",
       "      <td>15.0</td>\n",
       "      <td>196</td>\n",
       "      <td>1</td>\n",
       "      <td>1</td>\n",
       "      <td>Soda</td>\n",
       "      <td>...</td>\n",
       "      <td>Low spender</td>\n",
       "      <td>20.5</td>\n",
       "      <td>Non-frequent customer</td>\n",
       "      <td>Female</td>\n",
       "      <td>Alabama</td>\n",
       "      <td>31</td>\n",
       "      <td>2/17/2019</td>\n",
       "      <td>3</td>\n",
       "      <td>married</td>\n",
       "      <td>40423</td>\n",
       "    </tr>\n",
       "    <tr>\n",
       "      <th>2</th>\n",
       "      <td>473747</td>\n",
       "      <td>1</td>\n",
       "      <td>3</td>\n",
       "      <td>3</td>\n",
       "      <td>12</td>\n",
       "      <td>21.0</td>\n",
       "      <td>196</td>\n",
       "      <td>1</td>\n",
       "      <td>1</td>\n",
       "      <td>Soda</td>\n",
       "      <td>...</td>\n",
       "      <td>Low spender</td>\n",
       "      <td>20.5</td>\n",
       "      <td>Non-frequent customer</td>\n",
       "      <td>Female</td>\n",
       "      <td>Alabama</td>\n",
       "      <td>31</td>\n",
       "      <td>2/17/2019</td>\n",
       "      <td>3</td>\n",
       "      <td>married</td>\n",
       "      <td>40423</td>\n",
       "    </tr>\n",
       "    <tr>\n",
       "      <th>3</th>\n",
       "      <td>2254736</td>\n",
       "      <td>1</td>\n",
       "      <td>4</td>\n",
       "      <td>4</td>\n",
       "      <td>7</td>\n",
       "      <td>29.0</td>\n",
       "      <td>196</td>\n",
       "      <td>1</td>\n",
       "      <td>1</td>\n",
       "      <td>Soda</td>\n",
       "      <td>...</td>\n",
       "      <td>Low spender</td>\n",
       "      <td>20.5</td>\n",
       "      <td>Non-frequent customer</td>\n",
       "      <td>Female</td>\n",
       "      <td>Alabama</td>\n",
       "      <td>31</td>\n",
       "      <td>2/17/2019</td>\n",
       "      <td>3</td>\n",
       "      <td>married</td>\n",
       "      <td>40423</td>\n",
       "    </tr>\n",
       "    <tr>\n",
       "      <th>4</th>\n",
       "      <td>431534</td>\n",
       "      <td>1</td>\n",
       "      <td>5</td>\n",
       "      <td>4</td>\n",
       "      <td>15</td>\n",
       "      <td>28.0</td>\n",
       "      <td>196</td>\n",
       "      <td>1</td>\n",
       "      <td>1</td>\n",
       "      <td>Soda</td>\n",
       "      <td>...</td>\n",
       "      <td>Low spender</td>\n",
       "      <td>20.5</td>\n",
       "      <td>Non-frequent customer</td>\n",
       "      <td>Female</td>\n",
       "      <td>Alabama</td>\n",
       "      <td>31</td>\n",
       "      <td>2/17/2019</td>\n",
       "      <td>3</td>\n",
       "      <td>married</td>\n",
       "      <td>40423</td>\n",
       "    </tr>\n",
       "  </tbody>\n",
       "</table>\n",
       "<p>5 rows × 30 columns</p>\n",
       "</div>"
      ],
      "text/plain": [
       "   order_id  user_id  order_number  orders_day_of_week  order_hour_of_day  \\\n",
       "0   2539329        1             1                   2                  8   \n",
       "1   2398795        1             2                   3                  7   \n",
       "2    473747        1             3                   3                 12   \n",
       "3   2254736        1             4                   4                  7   \n",
       "4    431534        1             5                   4                 15   \n",
       "\n",
       "   days_since_last_order  product_id  add_to_cart_order  reordered  \\\n",
       "0                    NaN         196                  1          0   \n",
       "1                   15.0         196                  1          1   \n",
       "2                   21.0         196                  1          1   \n",
       "3                   29.0         196                  1          1   \n",
       "4                   28.0         196                  1          1   \n",
       "\n",
       "  product_name  ...  spending_flag  median_days_since_last_order  \\\n",
       "0         Soda  ...    Low spender                          20.5   \n",
       "1         Soda  ...    Low spender                          20.5   \n",
       "2         Soda  ...    Low spender                          20.5   \n",
       "3         Soda  ...    Low spender                          20.5   \n",
       "4         Soda  ...    Low spender                          20.5   \n",
       "\n",
       "          frequency_flag  gender    state age date_joined  \\\n",
       "0  Non-frequent customer  Female  Alabama  31   2/17/2019   \n",
       "1  Non-frequent customer  Female  Alabama  31   2/17/2019   \n",
       "2  Non-frequent customer  Female  Alabama  31   2/17/2019   \n",
       "3  Non-frequent customer  Female  Alabama  31   2/17/2019   \n",
       "4  Non-frequent customer  Female  Alabama  31   2/17/2019   \n",
       "\n",
       "   number_of_dependents marital_status  spending_power  \n",
       "0                     3        married           40423  \n",
       "1                     3        married           40423  \n",
       "2                     3        married           40423  \n",
       "3                     3        married           40423  \n",
       "4                     3        married           40423  \n",
       "\n",
       "[5 rows x 30 columns]"
      ]
     },
     "execution_count": 32,
     "metadata": {},
     "output_type": "execute_result"
    }
   ],
   "source": [
    "ords_prods_customer_merged.head()"
   ]
  },
  {
   "cell_type": "code",
   "execution_count": 33,
   "id": "4b02d13c",
   "metadata": {},
   "outputs": [
    {
     "data": {
      "text/plain": [
       "(32404859, 30)"
      ]
     },
     "execution_count": 33,
     "metadata": {},
     "output_type": "execute_result"
    }
   ],
   "source": [
    "ords_prods_customer_merged.shape"
   ]
  },
  {
   "cell_type": "code",
   "execution_count": 34,
   "id": "b3293aa2",
   "metadata": {},
   "outputs": [],
   "source": [
    "# Use the indicator argument to check whether there was a full match between the two dataframes\n",
    "ords_prods_customer_merged_indicator = ords_prods_agg.merge(customer, on = 'user_id', indicator='merge_indicator')"
   ]
  },
  {
   "cell_type": "code",
   "execution_count": 35,
   "id": "139d67c3",
   "metadata": {},
   "outputs": [
    {
     "data": {
      "text/plain": [
       "both          32404859\n",
       "left_only            0\n",
       "right_only           0\n",
       "Name: merge_indicator, dtype: int64"
      ]
     },
     "execution_count": 35,
     "metadata": {},
     "output_type": "execute_result"
    }
   ],
   "source": [
    "ords_prods_customer_merged_indicator['merge_indicator'].value_counts()"
   ]
  },
  {
   "cell_type": "code",
   "execution_count": 36,
   "id": "b671ba7e",
   "metadata": {},
   "outputs": [],
   "source": [
    "# Merge df_ords and df_ords_prior using order_id as a key & the argument how = 'outer', to double-check the full match \n",
    "df_merged_large_test= ords_prods_agg.merge(customer, on = 'user_id', indicator = 'merge_indicator_1', how = 'outer')"
   ]
  },
  {
   "cell_type": "code",
   "execution_count": 37,
   "id": "6e5a01ae",
   "metadata": {},
   "outputs": [
    {
     "data": {
      "text/plain": [
       "both          32404859\n",
       "left_only            0\n",
       "right_only           0\n",
       "Name: merge_indicator_1, dtype: int64"
      ]
     },
     "execution_count": 37,
     "metadata": {},
     "output_type": "execute_result"
    }
   ],
   "source": [
    "# Use the indicator argument to check whether there was a full match between the two dataframes\n",
    "df_merged_large_test['merge_indicator_1'].value_counts()"
   ]
  },
  {
   "cell_type": "markdown",
   "id": "93425120",
   "metadata": {},
   "source": [
    "#### Note: After using this method to double-check the merge, we can see that we actually have a full match. "
   ]
  },
  {
   "cell_type": "markdown",
   "id": "1d7c08da",
   "metadata": {},
   "source": [
    "##  06. Exporting Data in Pickle Format"
   ]
  },
  {
   "cell_type": "code",
   "execution_count": 38,
   "id": "22e1ff7e",
   "metadata": {
    "scrolled": true
   },
   "outputs": [
    {
     "name": "stdout",
     "output_type": "stream",
     "text": [
      "<class 'pandas.core.frame.DataFrame'>\n",
      "Int64Index: 32404859 entries, 0 to 32404858\n",
      "Data columns (total 30 columns):\n",
      " #   Column                        Dtype   \n",
      "---  ------                        -----   \n",
      " 0   order_id                      int64   \n",
      " 1   user_id                       int64   \n",
      " 2   order_number                  int64   \n",
      " 3   orders_day_of_week            int64   \n",
      " 4   order_hour_of_day             int64   \n",
      " 5   days_since_last_order         float64 \n",
      " 6   product_id                    int64   \n",
      " 7   add_to_cart_order             int64   \n",
      " 8   reordered                     int64   \n",
      " 9   product_name                  object  \n",
      " 10  aisle_id                      int64   \n",
      " 11  department_id                 int64   \n",
      " 12  prices                        float64 \n",
      " 13  _merge                        category\n",
      " 14  price_range                   object  \n",
      " 15  busiest_days                  object  \n",
      " 16  busiest_period_of_day         object  \n",
      " 17  max_order                     int64   \n",
      " 18  loyalty_flag                  object  \n",
      " 19  mean_prices                   float64 \n",
      " 20  spending_flag                 object  \n",
      " 21  median_days_since_last_order  float64 \n",
      " 22  frequency_flag                object  \n",
      " 23  gender                        object  \n",
      " 24  state                         object  \n",
      " 25  age                           int64   \n",
      " 26  date_joined                   object  \n",
      " 27  number_of_dependents          int64   \n",
      " 28  marital_status                object  \n",
      " 29  spending_power                int64   \n",
      "dtypes: category(1), float64(4), int64(14), object(11)\n",
      "memory usage: 7.3+ GB\n"
     ]
    }
   ],
   "source": [
    "# Final check of the columns\n",
    "ords_prods_customer_merged.info()"
   ]
  },
  {
   "cell_type": "code",
   "execution_count": 39,
   "id": "670f1748",
   "metadata": {},
   "outputs": [],
   "source": [
    "# Dropping column _merge from final dataset 'ords_prods_customer_merged'\n",
    "orders_products_all = ords_prods_customer_merged.drop(columns = ['_merge'])"
   ]
  },
  {
   "cell_type": "code",
   "execution_count": 41,
   "id": "625bb8a5",
   "metadata": {},
   "outputs": [
    {
     "data": {
      "text/plain": [
       "(32404859, 29)"
      ]
     },
     "execution_count": 41,
     "metadata": {},
     "output_type": "execute_result"
    }
   ],
   "source": [
    "orders_products_all.shape"
   ]
  },
  {
   "cell_type": "code",
   "execution_count": 40,
   "id": "084dcbb7",
   "metadata": {},
   "outputs": [],
   "source": [
    "orders_products_all.to_pickle(os.path.join(path, '02 Data','Prepared Data', 'orders_products_all.pkl'))"
   ]
  }
 ],
 "metadata": {
  "kernelspec": {
   "display_name": "Python 3 (ipykernel)",
   "language": "python",
   "name": "python3"
  },
  "language_info": {
   "codemirror_mode": {
    "name": "ipython",
    "version": 3
   },
   "file_extension": ".py",
   "mimetype": "text/x-python",
   "name": "python",
   "nbconvert_exporter": "python",
   "pygments_lexer": "ipython3",
   "version": "3.11.4"
  }
 },
 "nbformat": 4,
 "nbformat_minor": 5
}
