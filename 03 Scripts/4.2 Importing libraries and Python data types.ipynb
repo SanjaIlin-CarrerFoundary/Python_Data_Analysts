{
 "cells": [
  {
   "cell_type": "markdown",
   "id": "7a054bd5",
   "metadata": {},
   "source": [
    "# TASK 4.2"
   ]
  },
  {
   "cell_type": "markdown",
   "id": "2f11bbf6",
   "metadata": {},
   "source": [
    "## This script contains the following points:\n",
    "### Importing libraries\n",
    "### Data Types"
   ]
  },
  {
   "cell_type": "markdown",
   "id": "9d20dd26",
   "metadata": {},
   "source": [
    "# 01. Importing libraries"
   ]
  },
  {
   "cell_type": "code",
   "execution_count": 2,
   "id": "f49cb238",
   "metadata": {},
   "outputs": [],
   "source": [
    "# Import libraries\n",
    "import pandas as pd\n",
    "import numpy as np\n",
    "import os"
   ]
  },
  {
   "cell_type": "markdown",
   "id": "88d94d91",
   "metadata": {},
   "source": [
    "## Data Types"
   ]
  },
  {
   "cell_type": "markdown",
   "id": "9c31a231",
   "metadata": {},
   "source": [
    "### Code 3 different ways of reaching a result of 100 by adding or subtracting numeric variables"
   ]
  },
  {
   "cell_type": "code",
   "execution_count": 13,
   "id": "87b66626",
   "metadata": {},
   "outputs": [
    {
     "data": {
      "text/plain": [
       "100"
      ]
     },
     "execution_count": 13,
     "metadata": {},
     "output_type": "execute_result"
    }
   ],
   "source": [
    "50+50"
   ]
  },
  {
   "cell_type": "code",
   "execution_count": 14,
   "id": "93727525",
   "metadata": {},
   "outputs": [
    {
     "data": {
      "text/plain": [
       "100"
      ]
     },
     "execution_count": 14,
     "metadata": {},
     "output_type": "execute_result"
    }
   ],
   "source": [
    "50 * 2"
   ]
  },
  {
   "cell_type": "code",
   "execution_count": 15,
   "id": "cca2eb72",
   "metadata": {},
   "outputs": [
    {
     "data": {
      "text/plain": [
       "100"
      ]
     },
     "execution_count": 15,
     "metadata": {},
     "output_type": "execute_result"
    }
   ],
   "source": [
    "100 - 0"
   ]
  },
  {
   "cell_type": "markdown",
   "id": "f10c6f79",
   "metadata": {},
   "source": [
    "### Code 2 floating-point variables and divide them by each other"
   ]
  },
  {
   "cell_type": "code",
   "execution_count": 16,
   "id": "2ddaf4e9",
   "metadata": {},
   "outputs": [],
   "source": [
    "x = 4.4"
   ]
  },
  {
   "cell_type": "code",
   "execution_count": 17,
   "id": "a7089909",
   "metadata": {},
   "outputs": [],
   "source": [
    "y = 2.2"
   ]
  },
  {
   "cell_type": "code",
   "execution_count": 18,
   "id": "620e9e0c",
   "metadata": {},
   "outputs": [
    {
     "data": {
      "text/plain": [
       "2.0"
      ]
     },
     "execution_count": 18,
     "metadata": {},
     "output_type": "execute_result"
    }
   ],
   "source": [
    "x/y"
   ]
  },
  {
   "cell_type": "markdown",
   "id": "d1a29114",
   "metadata": {},
   "source": [
    "### Construct a short word made of separate strings"
   ]
  },
  {
   "cell_type": "code",
   "execution_count": 20,
   "id": "57ce71ef",
   "metadata": {},
   "outputs": [],
   "source": [
    "a = 'gree'"
   ]
  },
  {
   "cell_type": "code",
   "execution_count": 22,
   "id": "7181ce4f",
   "metadata": {},
   "outputs": [],
   "source": [
    "b = 'tings'"
   ]
  },
  {
   "cell_type": "code",
   "execution_count": 23,
   "id": "7688419e",
   "metadata": {},
   "outputs": [
    {
     "data": {
      "text/plain": [
       "'greetings'"
      ]
     },
     "execution_count": 23,
     "metadata": {},
     "output_type": "execute_result"
    }
   ],
   "source": [
    "a+b"
   ]
  },
  {
   "cell_type": "markdown",
   "id": "b9e688b7",
   "metadata": {},
   "source": [
    "### Construct 2 short sentences made of separate strings"
   ]
  },
  {
   "cell_type": "code",
   "execution_count": 24,
   "id": "4a12236e",
   "metadata": {},
   "outputs": [],
   "source": [
    "c = 'Hi'"
   ]
  },
  {
   "cell_type": "code",
   "execution_count": 25,
   "id": "5d63b679",
   "metadata": {},
   "outputs": [],
   "source": [
    "d = ', Omar!'"
   ]
  },
  {
   "cell_type": "code",
   "execution_count": 26,
   "id": "65f83f3e",
   "metadata": {},
   "outputs": [
    {
     "data": {
      "text/plain": [
       "'Hi, Omar!'"
      ]
     },
     "execution_count": 26,
     "metadata": {},
     "output_type": "execute_result"
    }
   ],
   "source": [
    "c+d"
   ]
  },
  {
   "cell_type": "code",
   "execution_count": 27,
   "id": "17c9bc68",
   "metadata": {},
   "outputs": [],
   "source": [
    "e = 'How'"
   ]
  },
  {
   "cell_type": "code",
   "execution_count": 28,
   "id": "b97b6c76",
   "metadata": {},
   "outputs": [],
   "source": [
    "f = 'are'"
   ]
  },
  {
   "cell_type": "code",
   "execution_count": 30,
   "id": "d630e318",
   "metadata": {},
   "outputs": [],
   "source": [
    "g = 'you?'"
   ]
  },
  {
   "cell_type": "code",
   "execution_count": 31,
   "id": "23c0bd29",
   "metadata": {},
   "outputs": [
    {
     "data": {
      "text/plain": [
       "'Howareyou?'"
      ]
     },
     "execution_count": 31,
     "metadata": {},
     "output_type": "execute_result"
    }
   ],
   "source": [
    "e+f+g"
   ]
  },
  {
   "cell_type": "code",
   "execution_count": 32,
   "id": "bb5e83c2",
   "metadata": {},
   "outputs": [],
   "source": [
    "e = 'How '"
   ]
  },
  {
   "cell_type": "code",
   "execution_count": 33,
   "id": "b8d7803c",
   "metadata": {},
   "outputs": [],
   "source": [
    "g = ' you?'"
   ]
  },
  {
   "cell_type": "code",
   "execution_count": 34,
   "id": "c83b129d",
   "metadata": {},
   "outputs": [
    {
     "data": {
      "text/plain": [
       "'How are you?'"
      ]
     },
     "execution_count": 34,
     "metadata": {},
     "output_type": "execute_result"
    }
   ],
   "source": [
    "e+f+g"
   ]
  },
  {
   "cell_type": "markdown",
   "id": "4344fa2c",
   "metadata": {},
   "source": [
    "### Bonus Task"
   ]
  },
  {
   "cell_type": "code",
   "execution_count": 35,
   "id": "ba600432",
   "metadata": {},
   "outputs": [],
   "source": [
    "h = '-'"
   ]
  },
  {
   "cell_type": "code",
   "execution_count": 36,
   "id": "1a6feed2",
   "metadata": {},
   "outputs": [
    {
     "data": {
      "text/plain": [
       "'----------------------------------------------------------------------------------------------------'"
      ]
     },
     "execution_count": 36,
     "metadata": {},
     "output_type": "execute_result"
    }
   ],
   "source": [
    "h*100"
   ]
  }
 ],
 "metadata": {
  "kernelspec": {
   "display_name": "Python 3 (ipykernel)",
   "language": "python",
   "name": "python3"
  },
  "language_info": {
   "codemirror_mode": {
    "name": "ipython",
    "version": 3
   },
   "file_extension": ".py",
   "mimetype": "text/x-python",
   "name": "python",
   "nbconvert_exporter": "python",
   "pygments_lexer": "ipython3",
   "version": "3.11.4"
  }
 },
 "nbformat": 4,
 "nbformat_minor": 5
}
